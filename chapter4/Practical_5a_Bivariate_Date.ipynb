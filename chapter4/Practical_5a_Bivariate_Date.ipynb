{
 "cells": [
  {
   "cell_type": "markdown",
   "metadata": {
    "collapsed": true
   },
   "source": [
    "# Practical 5A: Illustration example"
   ]
  },
  {
   "cell_type": "code",
   "execution_count": 5,
   "metadata": {
    "collapsed": true
   },
   "outputs": [],
   "source": [
    "import pandas as pd\n",
    "import matplotlib.pyplot as plt\n",
    "import seaborn as sns; sns.set()\n",
    "import numpy as np\n",
    "import os"
   ]
  },
  {
   "cell_type": "code",
   "execution_count": 6,
   "metadata": {
    "collapsed": true
   },
   "outputs": [],
   "source": [
    "# os.chdir('D:/MS0240')"
   ]
  },
  {
   "cell_type": "code",
   "execution_count": 7,
   "metadata": {},
   "outputs": [
    {
     "data": {
      "text/html": [
       "<div>\n",
       "<style scoped>\n",
       "    .dataframe tbody tr th:only-of-type {\n",
       "        vertical-align: middle;\n",
       "    }\n",
       "\n",
       "    .dataframe tbody tr th {\n",
       "        vertical-align: top;\n",
       "    }\n",
       "\n",
       "    .dataframe thead th {\n",
       "        text-align: right;\n",
       "    }\n",
       "</style>\n",
       "<table border=\"1\" class=\"dataframe\">\n",
       "  <thead>\n",
       "    <tr style=\"text-align: right;\">\n",
       "      <th></th>\n",
       "      <th>X1</th>\n",
       "      <th>X2</th>\n",
       "    </tr>\n",
       "  </thead>\n",
       "  <tbody>\n",
       "    <tr>\n",
       "      <th>0</th>\n",
       "      <td>2.5</td>\n",
       "      <td>2.4</td>\n",
       "    </tr>\n",
       "    <tr>\n",
       "      <th>1</th>\n",
       "      <td>0.5</td>\n",
       "      <td>0.7</td>\n",
       "    </tr>\n",
       "    <tr>\n",
       "      <th>2</th>\n",
       "      <td>2.2</td>\n",
       "      <td>2.9</td>\n",
       "    </tr>\n",
       "    <tr>\n",
       "      <th>3</th>\n",
       "      <td>1.9</td>\n",
       "      <td>2.2</td>\n",
       "    </tr>\n",
       "    <tr>\n",
       "      <th>4</th>\n",
       "      <td>3.1</td>\n",
       "      <td>3.0</td>\n",
       "    </tr>\n",
       "  </tbody>\n",
       "</table>\n",
       "</div>"
      ],
      "text/plain": [
       "    X1   X2\n",
       "0  2.5  2.4\n",
       "1  0.5  0.7\n",
       "2  2.2  2.9\n",
       "3  1.9  2.2\n",
       "4  3.1  3.0"
      ]
     },
     "execution_count": 7,
     "metadata": {},
     "output_type": "execute_result"
    }
   ],
   "source": [
    "data = pd.read_csv(\"illustrateEg.csv\")\n",
    "data.head()"
   ]
  },
  {
   "cell_type": "code",
   "execution_count": 8,
   "metadata": {
    "collapsed": true
   },
   "outputs": [],
   "source": [
    "# implementing PCA using sklearn\n",
    "\n",
    "from sklearn.decomposition import PCA\n",
    "\n",
    "pca = PCA(n_components=2).fit(data)\n",
    "#Note that pca.transform() returns scores based on centred data\n",
    "pca_samples = pca.transform(data)"
   ]
  },
  {
   "cell_type": "code",
   "execution_count": 9,
   "metadata": {
    "collapsed": true
   },
   "outputs": [],
   "source": [
    "# Computes the PCs and percentage variance explained\n",
    "# Pass original data and returns of PCA to this function.\n",
    "# This function returns a table summarising the PCs, eigenvalues and percentage variance explained.\n",
    "# The eigenvalues obtained may sometimes be slightly different due to difference in method.\n",
    "\n",
    "def pca_results(data, pca):\n",
    "    \n",
    "    # Dimension indexing\n",
    "    dimensions = ['PC {}'.format(i) for i in range(1,len(pca.components_)+1)]\n",
    "    \n",
    "    # PCA components\n",
    "    components = pd.DataFrame(np.round(pca.components_, 4), columns = data.keys()) \n",
    "    components.index = dimensions\n",
    "\n",
    "    #PCA eigenvalues\n",
    "    ev = pca.explained_variance_.reshape(len(pca.components_), 1)\n",
    "    eigenvalues = pd.DataFrame(np.round(ev, 4), columns = ['Eigenvalue']) \n",
    "    eigenvalues.index = dimensions\n",
    "    \n",
    "    # PCA explained variance\n",
    "    ratios = pca.explained_variance_ratio_.reshape(len(pca.components_), 1) \n",
    "    variance_ratios = pd.DataFrame(np.round(ratios, 4), columns = ['Explained Variance']) \n",
    "    variance_ratios.index = dimensions\n",
    "\n",
    "    # Return a concatenated DataFrame\n",
    "    return pd.concat([eigenvalues, variance_ratios, components], axis = 1)\n",
    "\n",
    "pca_results = pca_results(data, pca)"
   ]
  },
  {
   "cell_type": "code",
   "execution_count": 10,
   "metadata": {},
   "outputs": [
    {
     "data": {
      "text/html": [
       "<div>\n",
       "<style scoped>\n",
       "    .dataframe tbody tr th:only-of-type {\n",
       "        vertical-align: middle;\n",
       "    }\n",
       "\n",
       "    .dataframe tbody tr th {\n",
       "        vertical-align: top;\n",
       "    }\n",
       "\n",
       "    .dataframe thead th {\n",
       "        text-align: right;\n",
       "    }\n",
       "</style>\n",
       "<table border=\"1\" class=\"dataframe\">\n",
       "  <thead>\n",
       "    <tr style=\"text-align: right;\">\n",
       "      <th></th>\n",
       "      <th>Eigenvalue</th>\n",
       "      <th>Explained Variance</th>\n",
       "      <th>X1</th>\n",
       "      <th>X2</th>\n",
       "    </tr>\n",
       "  </thead>\n",
       "  <tbody>\n",
       "    <tr>\n",
       "      <th>PC 1</th>\n",
       "      <td>1.2840</td>\n",
       "      <td>0.9632</td>\n",
       "      <td>-0.6779</td>\n",
       "      <td>-0.7352</td>\n",
       "    </tr>\n",
       "    <tr>\n",
       "      <th>PC 2</th>\n",
       "      <td>0.0491</td>\n",
       "      <td>0.0368</td>\n",
       "      <td>-0.7352</td>\n",
       "      <td>0.6779</td>\n",
       "    </tr>\n",
       "  </tbody>\n",
       "</table>\n",
       "</div>"
      ],
      "text/plain": [
       "      Eigenvalue  Explained Variance      X1      X2\n",
       "PC 1      1.2840              0.9632 -0.6779 -0.7352\n",
       "PC 2      0.0491              0.0368 -0.7352  0.6779"
      ]
     },
     "execution_count": 10,
     "metadata": {},
     "output_type": "execute_result"
    }
   ],
   "source": [
    "pca_results"
   ]
  },
  {
   "cell_type": "code",
   "execution_count": 11,
   "metadata": {},
   "outputs": [
    {
     "data": {
      "text/html": [
       "<div>\n",
       "<style scoped>\n",
       "    .dataframe tbody tr th:only-of-type {\n",
       "        vertical-align: middle;\n",
       "    }\n",
       "\n",
       "    .dataframe tbody tr th {\n",
       "        vertical-align: top;\n",
       "    }\n",
       "\n",
       "    .dataframe thead th {\n",
       "        text-align: right;\n",
       "    }\n",
       "</style>\n",
       "<table border=\"1\" class=\"dataframe\">\n",
       "  <thead>\n",
       "    <tr style=\"text-align: right;\">\n",
       "      <th></th>\n",
       "      <th>PC1</th>\n",
       "      <th>PC2</th>\n",
       "    </tr>\n",
       "  </thead>\n",
       "  <tbody>\n",
       "    <tr>\n",
       "      <th>0</th>\n",
       "      <td>-3.459112</td>\n",
       "      <td>-0.211050</td>\n",
       "    </tr>\n",
       "    <tr>\n",
       "      <th>1</th>\n",
       "      <td>-0.853562</td>\n",
       "      <td>0.106922</td>\n",
       "    </tr>\n",
       "    <tr>\n",
       "      <th>2</th>\n",
       "      <td>-3.623340</td>\n",
       "      <td>0.348440</td>\n",
       "    </tr>\n",
       "    <tr>\n",
       "      <th>3</th>\n",
       "      <td>-2.905352</td>\n",
       "      <td>0.094482</td>\n",
       "    </tr>\n",
       "    <tr>\n",
       "      <th>4</th>\n",
       "      <td>-4.306944</td>\n",
       "      <td>-0.245434</td>\n",
       "    </tr>\n",
       "  </tbody>\n",
       "</table>\n",
       "</div>"
      ],
      "text/plain": [
       "        PC1       PC2\n",
       "0 -3.459112 -0.211050\n",
       "1 -0.853562  0.106922\n",
       "2 -3.623340  0.348440\n",
       "3 -2.905352  0.094482\n",
       "4 -4.306944 -0.245434"
      ]
     },
     "execution_count": 11,
     "metadata": {},
     "output_type": "execute_result"
    }
   ],
   "source": [
    "#Obtain scores from original data that are not centred\n",
    "\n",
    "scores_notcentred = np.dot(data, pca.components_.T)\n",
    "scores_notcentred = pd.DataFrame(scores_notcentred, columns = ['PC1', 'PC2'])\n",
    "scores_notcentred.head()"
   ]
  },
  {
   "cell_type": "code",
   "execution_count": 12,
   "metadata": {
    "collapsed": true
   },
   "outputs": [],
   "source": [
    "# Plots score plot.\n",
    "# Pass original data, un-centred scores and returns of PCA to this function. Optional width, height and margin\n",
    "# This function returns the axes of the score plot\n",
    "\n",
    "def scoreplot(data, scores, pca, width=5, height=5, margin=0.5):\n",
    "    plt.figure(figsize=(width, height))\n",
    "    ax = sns.scatterplot(x=\"PC1\", y=\"PC2\", data = scores)\n",
    "    \n",
    "    #Set limits for figure\n",
    "    x_min = min(scores['PC1'].min(),0)-margin\n",
    "    x_max = max(scores['PC1'].max(),0)+margin\n",
    "    y_min = min(scores['PC2'].min(),0)-margin\n",
    "    y_max = max(scores['PC2'].max(),0)+margin\n",
    "  \n",
    "    ax.set_xlim(x_min, x_max)\n",
    "    ax.set_ylim(y_min, y_max)\n",
    "    ax.set_title(\"Score plot\", fontsize=14)\n",
    "    plt.plot([x_min, x_max], [0, 0], color='k', linestyle='--', linewidth=1)\n",
    "    plt.plot([0, 0], [y_min, y_max], color='k', linestyle='--', linewidth=1)\n",
    "    return ax"
   ]
  },
  {
   "cell_type": "code",
   "execution_count": 13,
   "metadata": {},
   "outputs": [
    {
     "data": {
      "image/png": "[encoded data removed]",
      "text/plain": [
       "<Figure size 360x360 with 1 Axes>"
      ]
     },
     "metadata": {},
     "output_type": "display_data"
    }
   ],
   "source": [
    "plt.clf\n",
    "ax4 = scoreplot(data, scores_notcentred, pca)\n",
    "plt.show()"
   ]
  },
  {
   "cell_type": "code",
   "execution_count": 14,
   "metadata": {
    "collapsed": true
   },
   "outputs": [],
   "source": [
    "# This function plots the loading plot.\n",
    "# Pass original data dataframe and returns of PCA to this function. Optional width, height and margin\n",
    "# This function returns the axes of the loading plot\n",
    "\n",
    "def loadingplot(data, pca, width=5, height=5, margin=0.5):\n",
    "\n",
    "    fig, ax = plt.subplots(figsize = (width,height))\n",
    "\n",
    "    #Set limits for figure\n",
    "    x_min = min(pca.components_[0,:].min(),0)-margin\n",
    "    x_max = max(pca.components_[0,:].max(),0)+margin\n",
    "    y_min = min(pca.components_[1,:].min(),0)-margin\n",
    "    y_max = max(pca.components_[1,:].max(),0)+margin\n",
    "\n",
    "    ax.set_xlim(x_min, x_max)\n",
    "    ax.set_ylim(y_min, y_max)\n",
    "\n",
    "    #Scaling factor for text position\n",
    "    text_pos = 0.2\n",
    "\n",
    "    for i, v in enumerate(pca.components_.T):\n",
    "        ax.arrow(0, 0, v[0], v[1], head_width=0.1, head_length=0.1, linewidth=2, color='red')\n",
    "        ax.text(v[0], v[1]+text_pos, data.columns[i], color='black', ha='center', va='center', fontsize=12)\n",
    "\n",
    "    plt.plot([x_min, x_max], [0, 0], color='k', linestyle='--', linewidth=1)\n",
    "    plt.plot([0, 0], [y_min, y_max], color='k', linestyle='--', linewidth=1)\n",
    "    ax.set_xlabel(\"PC1\", fontsize=14)\n",
    "    ax.set_ylabel(\"PC2\", fontsize=14)\n",
    "    ax.set_title(\"Loading plot\", fontsize = 14)\n",
    "    \n",
    "    return ax"
   ]
  },
  {
   "cell_type": "code",
   "execution_count": 15,
   "metadata": {
    "scrolled": true
   },
   "outputs": [
    {
     "data": {
      "image/png": "[encoded data removed]",
      "text/plain": [
       "<Figure size 360x504 with 1 Axes>"
      ]
     },
     "metadata": {},
     "output_type": "display_data"
    }
   ],
   "source": [
    "plt.clf\n",
    "ax5 = loadingplot(data, pca, width=5, height=7)\n",
    "plt.show()"
   ]
  },
  {
   "cell_type": "code",
   "execution_count": 16,
   "metadata": {
    "collapsed": true
   },
   "outputs": [],
   "source": [
    "# Create dataframe for centred scores\n",
    "scores_centred = pd.DataFrame(pca_samples, columns = ['PC1', 'PC2'])"
   ]
  },
  {
   "cell_type": "code",
   "execution_count": 17,
   "metadata": {
    "collapsed": true
   },
   "outputs": [],
   "source": [
    "# This function plots the biplot.\n",
    "# Pass centred scores dataframe and returns of PCA to this function. Optional width, height and margin\n",
    "# This function returns the axes of the loading plot\n",
    "\n",
    "def biplot(scores, pca, width=5, height=5, margin=0.5):\n",
    "    plt.figure(figsize=(width, height))\n",
    "    ax = sns.scatterplot(x='PC1', y='PC2', data = scores)\n",
    "\n",
    "    #Set margins and limits for figure\n",
    "    x_min = min(scores['PC1'].min(), pca.components_[0,:].min(), 0) - margin\n",
    "    x_max = max(scores['PC1'].max(), pca.components_[0,:].max(), 0) + margin\n",
    "    y_min = min(scores['PC2'].min(), pca.components_[1,:].min(), 0) - margin\n",
    "    y_max = max(scores['PC2'].max(), pca.components_[1,:].max(), 0) + margin\n",
    "\n",
    "    ax.set_xlim(x_min, x_max)\n",
    "    ax.set_ylim(y_min, y_max)\n",
    "    ax.set_title(\"Biplot\", fontsize=14)\n",
    "\n",
    "    #Scaling factor for text position\n",
    "    text_pos = 0.2\n",
    "\n",
    "    for i, v in enumerate(pca.components_.T):\n",
    "        ax.arrow(0, 0, v[0], v[1], head_width=0.1, head_length=0.1, linewidth=2, color='red')\n",
    "        ax.text(v[0], v[1]+text_pos, data.columns[i], color='black', ha='center', va='center', fontsize=12)\n",
    "\n",
    "    plt.plot([x_min, x_max], [0, 0], color='k', linestyle='--', linewidth=1)\n",
    "    plt.plot([0, 0], [y_min, y_max], color='k', linestyle='--', linewidth=1)\n",
    "    return ax"
   ]
  },
  {
   "cell_type": "code",
   "execution_count": 18,
   "metadata": {},
   "outputs": [
    {
     "data": {
      "text/plain": [
       "<Figure size 432x288 with 0 Axes>"
      ]
     },
     "metadata": {},
     "output_type": "display_data"
    },
    {
     "data": {
      "image/png": "[encoded data removed]",
      "text/plain": [
       "<Figure size 720x360 with 1 Axes>"
      ]
     },
     "metadata": {},
     "output_type": "display_data"
    }
   ],
   "source": [
    "plt.clf()\n",
    "ax6 = biplot(scores_centred, pca, width=10, height=5, margin=0.3)\n",
    "plt.show()"
   ]
  },
  {
   "cell_type": "code",
   "execution_count": null,
   "metadata": {
    "collapsed": true
   },
   "outputs": [],
   "source": []
  }
 ],
 "metadata": {
  "kernelspec": {
   "display_name": "Python 3.10.5 64-bit (windows store)",
   "language": "python",
   "name": "python3"
  },
  "language_info": {
   "codemirror_mode": {
    "name": "ipython",
    "version": 3
   },
   "file_extension": ".py",
   "mimetype": "text/x-python",
   "name": "python",
   "nbconvert_exporter": "python",
   "pygments_lexer": "ipython3",
   "version": "3.10.5"
  },
  "vscode": {
   "interpreter": {
    "hash": "58dbfdb34cf82127b32c5737e6183911655ff227e5c11e8f5e4b25048ae98ef2"
   }
  }
 },
 "nbformat": 4,
 "nbformat_minor": 2
}
