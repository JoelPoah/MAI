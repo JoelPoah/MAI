{
 "cells": [
  {
   "cell_type": "code",
   "execution_count": 2,
   "id": "375e726e",
   "metadata": {},
   "outputs": [
    {
     "name": "stdout",
     "output_type": "stream",
     "text": [
      "The size of matrix a is 12\n",
      "5\n",
      "-4\n",
      "9\n",
      "Row 1 column 4 of A is 5\n"
     ]
    }
   ],
   "source": [
    "#Task 1\n",
    "import numpy as np\n",
    "a = np.array([[1,2,4,5],[0,1,5,2],[2,-4,3,9]])\n",
    "\n",
    "\n",
    "print('The size of matrix a is ' + str(a.size)) #a\n",
    "print (a[1,2])\n",
    "print(a[2,1])\n",
    "print(a[2,3])\n",
    "print('Row 1 column 4 of A is '+ str(a[0,3]))"
   ]
  },
  {
   "cell_type": "code",
   "execution_count": 3,
   "id": "c5cbbca0",
   "metadata": {},
   "outputs": [
    {
     "name": "stdout",
     "output_type": "stream",
     "text": [
      "-10.000000000000002\n"
     ]
    }
   ],
   "source": [
    "a = np.array([[2,3],[4,1]])\n",
    "print(np.linalg.det(a))"
   ]
  },
  {
   "cell_type": "code",
   "execution_count": 46,
   "id": "f196c5de",
   "metadata": {},
   "outputs": [
    {
     "name": "stdout",
     "output_type": "stream",
     "text": [
      "[[ 29 -14 -47  13]\n",
      " [ 12   9 -19  13]\n",
      " [ 33 -33 -54   6]\n",
      " [-11  11  18  -2]]\n",
      "[[ -1]\n",
      " [  9]\n",
      " [-12]\n",
      " [  4]]\n",
      "[[12 -1]\n",
      " [ 3  8]\n",
      " [ 1 -9]\n",
      " [ 1  7]]\n",
      "[[ 87  30  35   3]\n",
      " [ 30  55 -17  35]\n",
      " [ 35 -17 190 -86]\n",
      " [  3  35 -86  54]]\n",
      "[[ 17   1]\n",
      " [  4  15]\n",
      " [ -7 -12]\n",
      " [  5  12]]\n"
     ]
    }
   ],
   "source": [
    "#Task 2\n",
    "A = np.array([[7,-3],[2,1],[9,-6],[-3,2]])\n",
    "B = np.array([[2],[5]])\n",
    "C = np.array([[5,1,-8,4],[2,7,-3,5]])\n",
    "\n",
    "\n",
    "print(A.dot(C))\n",
    "print(A.dot(B))\n",
    "print(A+C.T)\n",
    "# print(B.dot(A)) not conformable\n",
    "print(A.dot(A.T)+C.T.dot(C))\n",
    "print(A+2*C.T)"
   ]
  },
  {
   "cell_type": "code",
   "execution_count": 54,
   "id": "78e75fc7",
   "metadata": {},
   "outputs": [
    {
     "name": "stdout",
     "output_type": "stream",
     "text": [
      "0.0\n",
      "-126.0\n"
     ]
    }
   ],
   "source": [
    "#Task 3\n",
    "\n",
    "A = np.array([[1,2,3],[4,5,6],[7,8,9]])\n",
    "\n",
    "print(np.linalg.det(A))\n",
    "#since determinant of A is 0, it is a singular matrix\n",
    "\n",
    "B = np.array([[0,1,3,4],[-2,1,2,1],[2,0,1,0],[0,8,3,1]])\n",
    "print(np.linalg.det(B))\n",
    "#Det of B is non-zero thus it is non-singular"
   ]
  },
  {
   "cell_type": "code",
   "execution_count": 50,
   "id": "e448357b",
   "metadata": {},
   "outputs": [
    {
     "name": "stdout",
     "output_type": "stream",
     "text": [
      "[[ 0.71428571 -0.14285714]\n",
      " [-0.42857143  0.28571429]]\n",
      "[[-0.25  0.75 -0.25]\n",
      " [-0.25 -0.25  0.75]\n",
      " [ 0.75 -0.25 -0.25]]\n"
     ]
    }
   ],
   "source": [
    "#Task 4\n",
    "A = np.array([[2,1],[3,5]])\n",
    "print(np.linalg.inv(A))\n",
    "\n",
    "B = np.array([[1,1,2],[2,1,1],[1,2,1]])\n",
    "print(np.linalg.inv(B))"
   ]
  },
  {
   "cell_type": "code",
   "execution_count": 53,
   "id": "25bd6305",
   "metadata": {},
   "outputs": [
    {
     "name": "stdout",
     "output_type": "stream",
     "text": [
      "2.449489742783178\n",
      "5.0990195135927845\n",
      "4.242640687119285\n"
     ]
    }
   ],
   "source": [
    "#Task 5\n",
    "v1 = np.array([[2],[-1],[1]])\n",
    "print(np.linalg.norm(v1))\n",
    "\n",
    "\n",
    "v2 = np.array([[4],[0],[3],[-1]])\n",
    "print(np.linalg.norm(v2))\n",
    "\n",
    "v3 = np.array([[1],[0],[2],[2],[3]])\n",
    "print(np.linalg.norm(v3))"
   ]
  }
 ],
 "metadata": {
  "kernelspec": {
   "display_name": "Python 3",
   "language": "python",
   "name": "python3"
  },
  "language_info": {
   "codemirror_mode": {
    "name": "ipython",
    "version": 3
   },
   "file_extension": ".py",
   "mimetype": "text/x-python",
   "name": "python",
   "nbconvert_exporter": "python",
   "pygments_lexer": "ipython3",
   "version": "3.8.8"
  }
 },
 "nbformat": 4,
 "nbformat_minor": 5
}
