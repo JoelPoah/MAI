{
 "cells": [
  {
   "cell_type": "markdown",
   "metadata": {
    "collapsed": true
   },
   "source": [
    "# Practical 5B"
   ]
  },
  {
   "cell_type": "markdown",
   "metadata": {},
   "source": [
    "This practical is related to Example 1(a). <br> Modify the functions used in Practical 5A to produce the table of PCA results table, scree plot, loading plot and score plot."
   ]
  },
  {
   "cell_type": "code",
   "execution_count": 58,
   "metadata": {},
   "outputs": [],
   "source": [
    "import pandas as pd\n",
    "import matplotlib.pyplot as plt\n",
    "import seaborn as sns; sns.set()\n",
    "import numpy as np\n",
    "import os"
   ]
  },
  {
   "cell_type": "markdown",
   "metadata": {},
   "source": [
    "We will read in the data file."
   ]
  },
  {
   "cell_type": "code",
   "execution_count": 59,
   "metadata": {},
   "outputs": [],
   "source": [
    "# os.chdir('D:/MS0240')"
   ]
  },
  {
   "cell_type": "code",
   "execution_count": 60,
   "metadata": {},
   "outputs": [
    {
     "data": {
      "text/html": [
       "<div>\n",
       "<style scoped>\n",
       "    .dataframe tbody tr th:only-of-type {\n",
       "        vertical-align: middle;\n",
       "    }\n",
       "\n",
       "    .dataframe tbody tr th {\n",
       "        vertical-align: top;\n",
       "    }\n",
       "\n",
       "    .dataframe thead th {\n",
       "        text-align: right;\n",
       "    }\n",
       "</style>\n",
       "<table border=\"1\" class=\"dataframe\">\n",
       "  <thead>\n",
       "    <tr style=\"text-align: right;\">\n",
       "      <th></th>\n",
       "      <th>Social Class/ No. of children</th>\n",
       "      <th>Bread</th>\n",
       "      <th>Vegetables</th>\n",
       "      <th>Fruit</th>\n",
       "      <th>Meat</th>\n",
       "      <th>Poultry</th>\n",
       "      <th>Milk</th>\n",
       "      <th>Wine</th>\n",
       "    </tr>\n",
       "  </thead>\n",
       "  <tbody>\n",
       "    <tr>\n",
       "      <th>0</th>\n",
       "      <td>B2</td>\n",
       "      <td>332</td>\n",
       "      <td>428</td>\n",
       "      <td>354</td>\n",
       "      <td>1437</td>\n",
       "      <td>526</td>\n",
       "      <td>247</td>\n",
       "      <td>427</td>\n",
       "    </tr>\n",
       "    <tr>\n",
       "      <th>1</th>\n",
       "      <td>W2</td>\n",
       "      <td>293</td>\n",
       "      <td>559</td>\n",
       "      <td>388</td>\n",
       "      <td>1527</td>\n",
       "      <td>567</td>\n",
       "      <td>239</td>\n",
       "      <td>258</td>\n",
       "    </tr>\n",
       "    <tr>\n",
       "      <th>2</th>\n",
       "      <td>U2</td>\n",
       "      <td>372</td>\n",
       "      <td>767</td>\n",
       "      <td>562</td>\n",
       "      <td>1948</td>\n",
       "      <td>927</td>\n",
       "      <td>235</td>\n",
       "      <td>433</td>\n",
       "    </tr>\n",
       "    <tr>\n",
       "      <th>3</th>\n",
       "      <td>B3</td>\n",
       "      <td>406</td>\n",
       "      <td>563</td>\n",
       "      <td>341</td>\n",
       "      <td>1507</td>\n",
       "      <td>544</td>\n",
       "      <td>324</td>\n",
       "      <td>407</td>\n",
       "    </tr>\n",
       "    <tr>\n",
       "      <th>4</th>\n",
       "      <td>W3</td>\n",
       "      <td>386</td>\n",
       "      <td>608</td>\n",
       "      <td>396</td>\n",
       "      <td>1501</td>\n",
       "      <td>558</td>\n",
       "      <td>319</td>\n",
       "      <td>363</td>\n",
       "    </tr>\n",
       "  </tbody>\n",
       "</table>\n",
       "</div>"
      ],
      "text/plain": [
       "  Social Class/ No. of children  Bread  Vegetables  Fruit  Meat  Poultry  \\\n",
       "0                            B2    332         428    354  1437      526   \n",
       "1                            W2    293         559    388  1527      567   \n",
       "2                            U2    372         767    562  1948      927   \n",
       "3                            B3    406         563    341  1507      544   \n",
       "4                            W3    386         608    396  1501      558   \n",
       "\n",
       "   Milk  Wine  \n",
       "0   247   427  \n",
       "1   239   258  \n",
       "2   235   433  \n",
       "3   324   407  \n",
       "4   319   363  "
      ]
     },
     "execution_count": 60,
     "metadata": {},
     "output_type": "execute_result"
    }
   ],
   "source": [
    "data = pd.read_csv(\"Chp5Eg1.csv\")\n",
    "data.head()"
   ]
  },
  {
   "cell_type": "code",
   "execution_count": 61,
   "metadata": {
    "scrolled": true
   },
   "outputs": [
    {
     "data": {
      "text/html": [
       "<div>\n",
       "<style scoped>\n",
       "    .dataframe tbody tr th:only-of-type {\n",
       "        vertical-align: middle;\n",
       "    }\n",
       "\n",
       "    .dataframe tbody tr th {\n",
       "        vertical-align: top;\n",
       "    }\n",
       "\n",
       "    .dataframe thead th {\n",
       "        text-align: right;\n",
       "    }\n",
       "</style>\n",
       "<table border=\"1\" class=\"dataframe\">\n",
       "  <thead>\n",
       "    <tr style=\"text-align: right;\">\n",
       "      <th></th>\n",
       "      <th>Bread</th>\n",
       "      <th>Vegetables</th>\n",
       "      <th>Fruit</th>\n",
       "      <th>Meat</th>\n",
       "      <th>Poultry</th>\n",
       "      <th>Milk</th>\n",
       "      <th>Wine</th>\n",
       "    </tr>\n",
       "  </thead>\n",
       "  <tbody>\n",
       "    <tr>\n",
       "      <th>0</th>\n",
       "      <td>332</td>\n",
       "      <td>428</td>\n",
       "      <td>354</td>\n",
       "      <td>1437</td>\n",
       "      <td>526</td>\n",
       "      <td>247</td>\n",
       "      <td>427</td>\n",
       "    </tr>\n",
       "    <tr>\n",
       "      <th>1</th>\n",
       "      <td>293</td>\n",
       "      <td>559</td>\n",
       "      <td>388</td>\n",
       "      <td>1527</td>\n",
       "      <td>567</td>\n",
       "      <td>239</td>\n",
       "      <td>258</td>\n",
       "    </tr>\n",
       "    <tr>\n",
       "      <th>2</th>\n",
       "      <td>372</td>\n",
       "      <td>767</td>\n",
       "      <td>562</td>\n",
       "      <td>1948</td>\n",
       "      <td>927</td>\n",
       "      <td>235</td>\n",
       "      <td>433</td>\n",
       "    </tr>\n",
       "    <tr>\n",
       "      <th>3</th>\n",
       "      <td>406</td>\n",
       "      <td>563</td>\n",
       "      <td>341</td>\n",
       "      <td>1507</td>\n",
       "      <td>544</td>\n",
       "      <td>324</td>\n",
       "      <td>407</td>\n",
       "    </tr>\n",
       "    <tr>\n",
       "      <th>4</th>\n",
       "      <td>386</td>\n",
       "      <td>608</td>\n",
       "      <td>396</td>\n",
       "      <td>1501</td>\n",
       "      <td>558</td>\n",
       "      <td>319</td>\n",
       "      <td>363</td>\n",
       "    </tr>\n",
       "  </tbody>\n",
       "</table>\n",
       "</div>"
      ],
      "text/plain": [
       "   Bread  Vegetables  Fruit  Meat  Poultry  Milk  Wine\n",
       "0    332         428    354  1437      526   247   427\n",
       "1    293         559    388  1527      567   239   258\n",
       "2    372         767    562  1948      927   235   433\n",
       "3    406         563    341  1507      544   324   407\n",
       "4    386         608    396  1501      558   319   363"
      ]
     },
     "execution_count": 61,
     "metadata": {},
     "output_type": "execute_result"
    }
   ],
   "source": [
    "data_reduced = data.drop(['Social Class/ No. of children'], axis=1)\n",
    "data_reduced.head()"
   ]
  },
  {
   "cell_type": "code",
   "execution_count": 62,
   "metadata": {},
   "outputs": [],
   "source": [
    "# implementing PCA using sklearn\n",
    "\n",
    "from sklearn.decomposition import PCA\n",
    "\n",
    "pca = PCA(n_components=7).fit(data_reduced)\n",
    "#Note that pca.transform() returns scores based on centred data\n",
    "pca_samples = pca.transform(data_reduced)"
   ]
  },
  {
   "cell_type": "code",
   "execution_count": 63,
   "metadata": {},
   "outputs": [
    {
     "data": {
      "text/plain": [
       "array([[-632.25429777, -121.62709395,   20.00162742,  -28.42501879,\n",
       "          65.68412172,   -2.8755248 ,   -5.32176518],\n",
       "       [-485.57962284, -139.30304597, -136.3002396 ,  -12.51552018,\n",
       "         -41.00805683,   15.60536001,   -2.16730732],\n",
       "       [ 114.57227558, -140.96317109,   57.15263749,  110.34249237,\n",
       "          14.60475537,  -21.32766535,    7.98171539],\n",
       "       [-517.6437299 ,   11.90317269,   -1.34673014,   -9.04912878,\n",
       "           6.92656144,  -12.43294982,  -14.38338064],\n",
       "       [-483.50849343,    2.22699492,  -64.05728   ,   26.58140755,\n",
       "           6.79276504,    9.84228502,   11.80449909],\n",
       "       [ 590.73840053, -189.51101343,   69.23537268,   26.43060038,\n",
       "         -17.81844476,   38.19383263,  -11.16659296],\n",
       "       [-332.32050552,  141.49939521,   43.21987465,  -18.82158881,\n",
       "         -25.84639629,   16.48192191,   17.90131869],\n",
       "       [ -55.26469168,   43.33813378,   31.43166765,  -22.46606469,\n",
       "          35.37996002,  -19.87714377,   -2.5082472 ],\n",
       "       [ 574.05134771, -206.59178053,   36.01250956,  -77.23012279,\n",
       "         -53.46131965,  -24.77657599,    7.21270538],\n",
       "       [ -38.22687624,  260.01002718,  139.38244081,  -14.5839321 ,\n",
       "          -6.67412033,   10.95854159,   -3.5669502 ],\n",
       "       [ 270.08153014,  232.59284555,  -85.3834918 ,   37.91921091,\n",
       "         -63.13597476,  -17.55321509,   -9.40295395],\n",
       "       [ 995.35466341,  106.42553563, -109.34838872,  -18.18233507,\n",
       "          78.55614902,    7.76113367,    3.6169589 ]])"
      ]
     },
     "execution_count": 63,
     "metadata": {},
     "output_type": "execute_result"
    }
   ],
   "source": [
    "pca_samples"
   ]
  },
  {
   "cell_type": "code",
   "execution_count": 64,
   "metadata": {},
   "outputs": [],
   "source": [
    "pca_samples=pd.DataFrame(pca_samples)"
   ]
  },
  {
   "cell_type": "code",
   "execution_count": 65,
   "metadata": {},
   "outputs": [
    {
     "data": {
      "text/html": [
       "<div>\n",
       "<style scoped>\n",
       "    .dataframe tbody tr th:only-of-type {\n",
       "        vertical-align: middle;\n",
       "    }\n",
       "\n",
       "    .dataframe tbody tr th {\n",
       "        vertical-align: top;\n",
       "    }\n",
       "\n",
       "    .dataframe thead th {\n",
       "        text-align: right;\n",
       "    }\n",
       "</style>\n",
       "<table border=\"1\" class=\"dataframe\">\n",
       "  <thead>\n",
       "    <tr style=\"text-align: right;\">\n",
       "      <th></th>\n",
       "      <th>0</th>\n",
       "      <th>1</th>\n",
       "      <th>2</th>\n",
       "      <th>3</th>\n",
       "      <th>4</th>\n",
       "      <th>5</th>\n",
       "      <th>6</th>\n",
       "    </tr>\n",
       "  </thead>\n",
       "  <tbody>\n",
       "    <tr>\n",
       "      <th>0</th>\n",
       "      <td>-632.254298</td>\n",
       "      <td>-121.627094</td>\n",
       "      <td>20.001627</td>\n",
       "      <td>-28.425019</td>\n",
       "      <td>65.684122</td>\n",
       "      <td>-2.875525</td>\n",
       "      <td>-5.321765</td>\n",
       "    </tr>\n",
       "    <tr>\n",
       "      <th>1</th>\n",
       "      <td>-485.579623</td>\n",
       "      <td>-139.303046</td>\n",
       "      <td>-136.300240</td>\n",
       "      <td>-12.515520</td>\n",
       "      <td>-41.008057</td>\n",
       "      <td>15.605360</td>\n",
       "      <td>-2.167307</td>\n",
       "    </tr>\n",
       "    <tr>\n",
       "      <th>2</th>\n",
       "      <td>114.572276</td>\n",
       "      <td>-140.963171</td>\n",
       "      <td>57.152637</td>\n",
       "      <td>110.342492</td>\n",
       "      <td>14.604755</td>\n",
       "      <td>-21.327665</td>\n",
       "      <td>7.981715</td>\n",
       "    </tr>\n",
       "    <tr>\n",
       "      <th>3</th>\n",
       "      <td>-517.643730</td>\n",
       "      <td>11.903173</td>\n",
       "      <td>-1.346730</td>\n",
       "      <td>-9.049129</td>\n",
       "      <td>6.926561</td>\n",
       "      <td>-12.432950</td>\n",
       "      <td>-14.383381</td>\n",
       "    </tr>\n",
       "    <tr>\n",
       "      <th>4</th>\n",
       "      <td>-483.508493</td>\n",
       "      <td>2.226995</td>\n",
       "      <td>-64.057280</td>\n",
       "      <td>26.581408</td>\n",
       "      <td>6.792765</td>\n",
       "      <td>9.842285</td>\n",
       "      <td>11.804499</td>\n",
       "    </tr>\n",
       "    <tr>\n",
       "      <th>5</th>\n",
       "      <td>590.738401</td>\n",
       "      <td>-189.511013</td>\n",
       "      <td>69.235373</td>\n",
       "      <td>26.430600</td>\n",
       "      <td>-17.818445</td>\n",
       "      <td>38.193833</td>\n",
       "      <td>-11.166593</td>\n",
       "    </tr>\n",
       "    <tr>\n",
       "      <th>6</th>\n",
       "      <td>-332.320506</td>\n",
       "      <td>141.499395</td>\n",
       "      <td>43.219875</td>\n",
       "      <td>-18.821589</td>\n",
       "      <td>-25.846396</td>\n",
       "      <td>16.481922</td>\n",
       "      <td>17.901319</td>\n",
       "    </tr>\n",
       "    <tr>\n",
       "      <th>7</th>\n",
       "      <td>-55.264692</td>\n",
       "      <td>43.338134</td>\n",
       "      <td>31.431668</td>\n",
       "      <td>-22.466065</td>\n",
       "      <td>35.379960</td>\n",
       "      <td>-19.877144</td>\n",
       "      <td>-2.508247</td>\n",
       "    </tr>\n",
       "    <tr>\n",
       "      <th>8</th>\n",
       "      <td>574.051348</td>\n",
       "      <td>-206.591781</td>\n",
       "      <td>36.012510</td>\n",
       "      <td>-77.230123</td>\n",
       "      <td>-53.461320</td>\n",
       "      <td>-24.776576</td>\n",
       "      <td>7.212705</td>\n",
       "    </tr>\n",
       "    <tr>\n",
       "      <th>9</th>\n",
       "      <td>-38.226876</td>\n",
       "      <td>260.010027</td>\n",
       "      <td>139.382441</td>\n",
       "      <td>-14.583932</td>\n",
       "      <td>-6.674120</td>\n",
       "      <td>10.958542</td>\n",
       "      <td>-3.566950</td>\n",
       "    </tr>\n",
       "    <tr>\n",
       "      <th>10</th>\n",
       "      <td>270.081530</td>\n",
       "      <td>232.592846</td>\n",
       "      <td>-85.383492</td>\n",
       "      <td>37.919211</td>\n",
       "      <td>-63.135975</td>\n",
       "      <td>-17.553215</td>\n",
       "      <td>-9.402954</td>\n",
       "    </tr>\n",
       "    <tr>\n",
       "      <th>11</th>\n",
       "      <td>995.354663</td>\n",
       "      <td>106.425536</td>\n",
       "      <td>-109.348389</td>\n",
       "      <td>-18.182335</td>\n",
       "      <td>78.556149</td>\n",
       "      <td>7.761134</td>\n",
       "      <td>3.616959</td>\n",
       "    </tr>\n",
       "  </tbody>\n",
       "</table>\n",
       "</div>"
      ],
      "text/plain": [
       "             0           1           2           3          4          5  \\\n",
       "0  -632.254298 -121.627094   20.001627  -28.425019  65.684122  -2.875525   \n",
       "1  -485.579623 -139.303046 -136.300240  -12.515520 -41.008057  15.605360   \n",
       "2   114.572276 -140.963171   57.152637  110.342492  14.604755 -21.327665   \n",
       "3  -517.643730   11.903173   -1.346730   -9.049129   6.926561 -12.432950   \n",
       "4  -483.508493    2.226995  -64.057280   26.581408   6.792765   9.842285   \n",
       "5   590.738401 -189.511013   69.235373   26.430600 -17.818445  38.193833   \n",
       "6  -332.320506  141.499395   43.219875  -18.821589 -25.846396  16.481922   \n",
       "7   -55.264692   43.338134   31.431668  -22.466065  35.379960 -19.877144   \n",
       "8   574.051348 -206.591781   36.012510  -77.230123 -53.461320 -24.776576   \n",
       "9   -38.226876  260.010027  139.382441  -14.583932  -6.674120  10.958542   \n",
       "10  270.081530  232.592846  -85.383492   37.919211 -63.135975 -17.553215   \n",
       "11  995.354663  106.425536 -109.348389  -18.182335  78.556149   7.761134   \n",
       "\n",
       "            6  \n",
       "0   -5.321765  \n",
       "1   -2.167307  \n",
       "2    7.981715  \n",
       "3  -14.383381  \n",
       "4   11.804499  \n",
       "5  -11.166593  \n",
       "6   17.901319  \n",
       "7   -2.508247  \n",
       "8    7.212705  \n",
       "9   -3.566950  \n",
       "10  -9.402954  \n",
       "11   3.616959  "
      ]
     },
     "execution_count": 65,
     "metadata": {},
     "output_type": "execute_result"
    }
   ],
   "source": [
    "pca_samples"
   ]
  },
  {
   "cell_type": "markdown",
   "metadata": {},
   "source": [
    "## Task 1\n",
    "The function \"pca_results\" from Practical 5A is reproduced below. Modify it so as to produce the PCA results table."
   ]
  },
  {
   "cell_type": "code",
   "execution_count": 66,
   "metadata": {},
   "outputs": [],
   "source": [
    "# Computes the PCs and percentage variance explained\n",
    "# Pass original data and returns of PCA to this function.\n",
    "# This function returns a table summarising the eigenvalues, % variance explained, cumulative % variance explained and PCs\n",
    "\n",
    "def pca_results(data, pca):\n",
    "    \n",
    "    # Dimension indexing\n",
    "    dimensions = ['PC {}'.format(i) for i in range(1,len(pca.components_)+1)]\n",
    "    \n",
    "    # PCA components\n",
    "    components = pd.DataFrame(np.round(pca.components_, 4), columns = data.keys()) \n",
    "    components.index = dimensions\n",
    "\n",
    "    #PCA eigenvalues\n",
    "    ev = pca.explained_variance_.reshape(len(pca.components_), 1)\n",
    "    eigenvalues = pd.DataFrame(np.round(ev, 4), columns = ['Eigenvalue']) \n",
    "    eigenvalues.index = dimensions\n",
    "    \n",
    "    # PCA explained variance\n",
    "    ratios = pca.explained_variance_ratio_.reshape(len(pca.components_), 1) \n",
    "    variance_ratios = pd.DataFrame(np.round(ratios, 4), columns = ['Explained Variance']) \n",
    "    variance_ratios.index = dimensions\n",
    "    \n",
    "    # PCA cumulative explained variance\n",
    "    cum_ratios = pca.explained_variance_ratio_.cumsum().reshape(len(pca.components_), 1)\n",
    "    cum_variance_ratios = pd.DataFrame(np.round(cum_ratios, 4), columns = ['Cumulative Explained Variance'])\n",
    "    cum_variance_ratios.index = dimensions\n",
    "\n",
    "    # Return a concatenated DataFrame\n",
    "    return pd.concat([eigenvalues, variance_ratios, cum_variance_ratios, components], axis = 1)"
   ]
  },
  {
   "cell_type": "code",
   "execution_count": 67,
   "metadata": {},
   "outputs": [
    {
     "data": {
      "text/html": [
       "<div>\n",
       "<style scoped>\n",
       "    .dataframe tbody tr th:only-of-type {\n",
       "        vertical-align: middle;\n",
       "    }\n",
       "\n",
       "    .dataframe tbody tr th {\n",
       "        vertical-align: top;\n",
       "    }\n",
       "\n",
       "    .dataframe thead th {\n",
       "        text-align: right;\n",
       "    }\n",
       "</style>\n",
       "<table border=\"1\" class=\"dataframe\">\n",
       "  <thead>\n",
       "    <tr style=\"text-align: right;\">\n",
       "      <th></th>\n",
       "      <th>Eigenvalue</th>\n",
       "      <th>Explained Variance</th>\n",
       "      <th>Cumulative Explained Variance</th>\n",
       "      <th>Bread</th>\n",
       "      <th>Vegetables</th>\n",
       "      <th>Fruit</th>\n",
       "      <th>Meat</th>\n",
       "      <th>Poultry</th>\n",
       "      <th>Milk</th>\n",
       "      <th>Wine</th>\n",
       "    </tr>\n",
       "  </thead>\n",
       "  <tbody>\n",
       "    <tr>\n",
       "      <th>PC 1</th>\n",
       "      <td>273411.7739</td>\n",
       "      <td>0.8795</td>\n",
       "      <td>0.8795</td>\n",
       "      <td>0.0685</td>\n",
       "      <td>0.3273</td>\n",
       "      <td>0.3038</td>\n",
       "      <td>0.7555</td>\n",
       "      <td>0.4621</td>\n",
       "      <td>0.0899</td>\n",
       "      <td>-0.0587</td>\n",
       "    </tr>\n",
       "    <tr>\n",
       "      <th>PC 2</th>\n",
       "      <td>26158.3319</td>\n",
       "      <td>0.0841</td>\n",
       "      <td>0.9637</td>\n",
       "      <td>0.5477</td>\n",
       "      <td>0.4201</td>\n",
       "      <td>-0.0886</td>\n",
       "      <td>-0.0894</td>\n",
       "      <td>-0.2810</td>\n",
       "      <td>0.6397</td>\n",
       "      <td>0.1399</td>\n",
       "    </tr>\n",
       "    <tr>\n",
       "      <th>PC 3</th>\n",
       "      <td>6724.6013</td>\n",
       "      <td>0.0216</td>\n",
       "      <td>0.9853</td>\n",
       "      <td>0.4409</td>\n",
       "      <td>-0.3106</td>\n",
       "      <td>-0.3135</td>\n",
       "      <td>0.0558</td>\n",
       "      <td>0.3876</td>\n",
       "      <td>-0.1814</td>\n",
       "      <td>0.6516</td>\n",
       "    </tr>\n",
       "    <tr>\n",
       "      <th>PC 4</th>\n",
       "      <td>2130.1585</td>\n",
       "      <td>0.0069</td>\n",
       "      <td>0.9921</td>\n",
       "      <td>-0.0917</td>\n",
       "      <td>0.6924</td>\n",
       "      <td>0.2342</td>\n",
       "      <td>-0.3624</td>\n",
       "      <td>0.0919</td>\n",
       "      <td>-0.4330</td>\n",
       "      <td>0.3606</td>\n",
       "    </tr>\n",
       "    <tr>\n",
       "      <th>PC 5</th>\n",
       "      <td>1963.6940</td>\n",
       "      <td>0.0063</td>\n",
       "      <td>0.9985</td>\n",
       "      <td>-0.1745</td>\n",
       "      <td>-0.3209</td>\n",
       "      <td>0.6954</td>\n",
       "      <td>0.0386</td>\n",
       "      <td>-0.2490</td>\n",
       "      <td>0.2406</td>\n",
       "      <td>0.5115</td>\n",
       "    </tr>\n",
       "    <tr>\n",
       "      <th>PC 6</th>\n",
       "      <td>380.5415</td>\n",
       "      <td>0.0012</td>\n",
       "      <td>0.9997</td>\n",
       "      <td>0.6781</td>\n",
       "      <td>-0.1663</td>\n",
       "      <td>0.4698</td>\n",
       "      <td>-0.1162</td>\n",
       "      <td>-0.0744</td>\n",
       "      <td>-0.3759</td>\n",
       "      <td>-0.3624</td>\n",
       "    </tr>\n",
       "    <tr>\n",
       "      <th>PC 7</th>\n",
       "      <td>96.4218</td>\n",
       "      <td>0.0003</td>\n",
       "      <td>1.0000</td>\n",
       "      <td>-0.0479</td>\n",
       "      <td>-0.0991</td>\n",
       "      <td>0.2060</td>\n",
       "      <td>-0.5212</td>\n",
       "      <td>0.6937</td>\n",
       "      <td>0.4039</td>\n",
       "      <td>-0.1714</td>\n",
       "    </tr>\n",
       "  </tbody>\n",
       "</table>\n",
       "</div>"
      ],
      "text/plain": [
       "       Eigenvalue  Explained Variance  Cumulative Explained Variance   Bread  \\\n",
       "PC 1  273411.7739              0.8795                         0.8795  0.0685   \n",
       "PC 2   26158.3319              0.0841                         0.9637  0.5477   \n",
       "PC 3    6724.6013              0.0216                         0.9853  0.4409   \n",
       "PC 4    2130.1585              0.0069                         0.9921 -0.0917   \n",
       "PC 5    1963.6940              0.0063                         0.9985 -0.1745   \n",
       "PC 6     380.5415              0.0012                         0.9997  0.6781   \n",
       "PC 7      96.4218              0.0003                         1.0000 -0.0479   \n",
       "\n",
       "      Vegetables   Fruit    Meat  Poultry    Milk    Wine  \n",
       "PC 1      0.3273  0.3038  0.7555   0.4621  0.0899 -0.0587  \n",
       "PC 2      0.4201 -0.0886 -0.0894  -0.2810  0.6397  0.1399  \n",
       "PC 3     -0.3106 -0.3135  0.0558   0.3876 -0.1814  0.6516  \n",
       "PC 4      0.6924  0.2342 -0.3624   0.0919 -0.4330  0.3606  \n",
       "PC 5     -0.3209  0.6954  0.0386  -0.2490  0.2406  0.5115  \n",
       "PC 6     -0.1663  0.4698 -0.1162  -0.0744 -0.3759 -0.3624  \n",
       "PC 7     -0.0991  0.2060 -0.5212   0.6937  0.4039 -0.1714  "
      ]
     },
     "execution_count": 67,
     "metadata": {},
     "output_type": "execute_result"
    }
   ],
   "source": [
    "pca_results = pca_results(data_reduced, pca)\n",
    "pca_results"
   ]
  },
  {
   "cell_type": "code",
   "execution_count": null,
   "metadata": {},
   "outputs": [],
   "source": []
  },
  {
   "cell_type": "markdown",
   "metadata": {},
   "source": [
    "To help us decide the number of PCs to keep, one of the guidelines is to refer to the scree plot. We can plot the scree plot using the code below."
   ]
  },
  {
   "cell_type": "code",
   "execution_count": 68,
   "metadata": {},
   "outputs": [
    {
     "data": {
      "text/plain": [
       "<Figure size 432x288 with 0 Axes>"
      ]
     },
     "metadata": {},
     "output_type": "display_data"
    },
    {
     "data": {
<<<<<<< HEAD
      "image/png": "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",
=======
      "image/png": "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",
>>>>>>> d9c9dafed91a9edc3e442b6bc7deb22147f8867f
      "text/plain": [
       "<Figure size 432x288 with 1 Axes>"
      ]
     },
     "metadata": {},
     "output_type": "display_data"
    }
   ],
   "source": [
    "#Scree plot\n",
    "import matplotlib.ticker as ticker\n",
    "plt.clf()\n",
    "fig1, ax1 = plt.subplots()\n",
    "ax1.plot(np.arange(1, len(pca.explained_variance_)+1), pca.explained_variance_)\n",
    "ax1.xaxis.set_major_locator(ticker.MultipleLocator(1))\n",
    "ax1.set(xlabel = 'Component number', ylabel = 'Eigenvalue', title = 'Screeplot')\n",
    "plt.show()"
   ]
  },
  {
   "cell_type": "markdown",
   "metadata": {},
   "source": [
    "## Task 2\n",
    "The function \"loadingplot\" used in Practical 5A is reproduced below. Modify it to produce the loading plot for the first two PCs."
   ]
  },
  {
   "cell_type": "code",
   "execution_count": 69,
   "metadata": {},
   "outputs": [],
   "source": [
    "#Extract only the two PCs\n",
    "pca2 = PCA(n_components=2).fit(data_reduced)\n",
    "scores2 = pca2.transform(data_reduced)"
   ]
  },
  {
   "cell_type": "code",
   "execution_count": 70,
   "metadata": {},
   "outputs": [],
   "source": [
    "# This function plots the loading plot.\n",
    "# Pass original data dataframe and returns of PCA to this function. Optional width, height and margin\n",
    "# This function returns the axes of the loading plot\n",
    "\n",
    "def loadingplot(data, pca, width=5, height=5, margin=0.5):\n",
    "\n",
    "    fig, ax = plt.subplots(figsize = (width,height))\n",
    "\n",
    "    #Set limits for figure\n",
    "    x_min = min(pca.components_[0,:].min(),0)-margin\n",
    "    x_max = max(pca.components_[0,:].max(),0)+margin\n",
    "    y_min = min(pca.components_[1,:].min(),0)-margin\n",
    "    y_max = max(pca.components_[1,:].max(),0)+margin\n",
    "\n",
    "    ax.set_xlim(x_min, x_max)\n",
    "    ax.set_ylim(y_min, y_max)\n",
    "\n",
    "    #Scaling factor for text position\n",
    "    text_pos = 0.1\n",
    "\n",
    "    for i, v in enumerate(pca.components_.T):\n",
    "        ax.arrow(0, 0, v[0], v[1], head_width=0.05, head_length=0.05, linewidth=2, color='red')\n",
    "        ax.text(v[0], v[1]+text_pos, data.columns[i], color='black', ha='center', va='center', fontsize=12)\n",
    "\n",
    "    plt.plot([x_min, x_max], [0, 0], color='k', linestyle='--', linewidth=1)\n",
    "    plt.plot([0, 0], [y_min, y_max], color='k', linestyle='--', linewidth=1)\n",
    "    ax.set_xlabel(\"PC1\", fontsize=14)\n",
    "    ax.set_ylabel(\"PC2\", fontsize=14)\n",
    "    ax.set_title(\"Loading plot\", fontsize = 14)\n",
    "    \n",
    "    return ax"
   ]
  },
  {
   "cell_type": "code",
   "execution_count": 71,
   "metadata": {},
   "outputs": [
    {
     "data": {
<<<<<<< HEAD
      "image/png": "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",
=======
      "image/png": "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",
>>>>>>> d9c9dafed91a9edc3e442b6bc7deb22147f8867f
      "text/plain": [
       "<Figure size 504x504 with 1 Axes>"
      ]
     },
     "metadata": {},
     "output_type": "display_data"
    }
   ],
   "source": [
    "plt.clf\n",
    "ax2 = loadingplot(data_reduced, pca2, width=7, height=7, margin=0.2)\n",
    "plt.show()"
   ]
  },
  {
   "cell_type": "code",
   "execution_count": null,
   "metadata": {},
   "outputs": [],
   "source": []
  },
  {
   "cell_type": "markdown",
   "metadata": {
    "collapsed": true
   },
   "source": [
    "## Task 3\n",
    "The function \"scoreplot\" from practical 5A is reproduced below, but it is renamed as \"scoreplot_label\". <br>Modify it to produce the scoreplot with label for each data point that can identify the 12 families."
   ]
  },
  {
   "cell_type": "code",
   "execution_count": 72,
   "metadata": {
    "scrolled": false
   },
   "outputs": [
    {
     "data": {
      "text/html": [
       "<div>\n",
       "<style scoped>\n",
       "    .dataframe tbody tr th:only-of-type {\n",
       "        vertical-align: middle;\n",
       "    }\n",
       "\n",
       "    .dataframe tbody tr th {\n",
       "        vertical-align: top;\n",
       "    }\n",
       "\n",
       "    .dataframe thead th {\n",
       "        text-align: right;\n",
       "    }\n",
       "</style>\n",
       "<table border=\"1\" class=\"dataframe\">\n",
       "  <thead>\n",
       "    <tr style=\"text-align: right;\">\n",
       "      <th></th>\n",
       "      <th>PC1</th>\n",
       "      <th>PC2</th>\n",
       "    </tr>\n",
       "  </thead>\n",
       "  <tbody>\n",
       "    <tr>\n",
       "      <th>0</th>\n",
       "      <td>1596.296039</td>\n",
       "      <td>271.671473</td>\n",
       "    </tr>\n",
       "    <tr>\n",
       "      <th>1</th>\n",
       "      <td>1742.970714</td>\n",
       "      <td>253.995521</td>\n",
       "    </tr>\n",
       "    <tr>\n",
       "      <th>2</th>\n",
       "      <td>2343.122612</td>\n",
       "      <td>252.335396</td>\n",
       "    </tr>\n",
       "    <tr>\n",
       "      <th>3</th>\n",
       "      <td>1710.906607</td>\n",
       "      <td>405.201740</td>\n",
       "    </tr>\n",
       "    <tr>\n",
       "      <th>4</th>\n",
       "      <td>1745.041843</td>\n",
       "      <td>395.525562</td>\n",
       "    </tr>\n",
       "  </tbody>\n",
       "</table>\n",
       "</div>"
      ],
      "text/plain": [
       "           PC1         PC2\n",
       "0  1596.296039  271.671473\n",
       "1  1742.970714  253.995521\n",
       "2  2343.122612  252.335396\n",
       "3  1710.906607  405.201740\n",
       "4  1745.041843  395.525562"
      ]
     },
     "execution_count": 72,
     "metadata": {},
     "output_type": "execute_result"
    }
   ],
   "source": [
    "#Obtain scores from original data that are not centred\n",
    "\n",
    "scores2_notcentred = np.dot(data_reduced, pca2.components_.T)\n",
    "scores2_notcentred = pd.DataFrame(scores2_notcentred, columns = ['PC1', 'PC2'])\n",
    "scores2_notcentred.head()"
   ]
  },
  {
   "cell_type": "code",
   "execution_count": 73,
   "metadata": {},
   "outputs": [],
   "source": [
    "# Plots score plot with data labels\n",
    "# Pass original data, un-centred scores and returns of PCA to this function. Optional width, height and margin.\n",
    "# This function returns the axes of the score plot\n",
    "\n",
    "def scoreplot_label(data, scores, pca, width=5, height=5, margin=0.5):\n",
    "    plt.figure(figsize=(width, height))\n",
    "    ax = sns.scatterplot(x=\"PC1\", y=\"PC2\", data = scores)\n",
    "    \n",
    "    #Set limits for figure\n",
    "    x_min = min(scores['PC1'].min(),0)-margin\n",
    "    x_max = max(scores['PC1'].max(),0)+margin\n",
    "    y_min = min(scores['PC2'].min(),0)-margin\n",
    "    y_max = max(scores['PC2'].max(),0)+margin\n",
    "  \n",
    "    ax.set_xlim(x_min, x_max)\n",
    "    ax.set_ylim(y_min, y_max)\n",
    "    ax.set_title(\"Score plot\", fontsize=14)\n",
    "    plt.plot([x_min, x_max], [0, 0], color='k', linestyle='--', linewidth=1)\n",
    "    plt.plot([0, 0], [y_min, y_max], color='k', linestyle='--', linewidth=1)\n",
    "    return ax"
   ]
  },
  {
   "cell_type": "code",
   "execution_count": 74,
   "metadata": {},
   "outputs": [
    {
     "data": {
<<<<<<< HEAD
      "image/png": "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",
=======
      "image/png": "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",
>>>>>>> d9c9dafed91a9edc3e442b6bc7deb22147f8867f
      "text/plain": [
       "<Figure size 1440x288 with 1 Axes>"
      ]
     },
     "metadata": {},
     "output_type": "display_data"
    }
   ],
   "source": [
    "plt.clf\n",
    "ax3 = scoreplot_label(data, scores2_notcentred, pca2, width=20, height=4, margin=50)\n",
    "plt.show()"
   ]
  },
  {
   "cell_type": "code",
   "execution_count": null,
   "metadata": {},
   "outputs": [],
   "source": []
  }
 ],
 "metadata": {
  "kernelspec": {
<<<<<<< HEAD
   "display_name": "Python 3.9.13 64-bit (windows store)",
=======
   "display_name": "Python 3.10.5 64-bit (windows store)",
>>>>>>> d9c9dafed91a9edc3e442b6bc7deb22147f8867f
   "language": "python",
   "name": "python3"
  },
  "language_info": {
   "codemirror_mode": {
    "name": "ipython",
    "version": 3
   },
   "file_extension": ".py",
   "mimetype": "text/x-python",
   "name": "python",
   "nbconvert_exporter": "python",
   "pygments_lexer": "ipython3",
<<<<<<< HEAD
   "version": "3.9.13"
  },
  "vscode": {
   "interpreter": {
    "hash": "3a00f272cf4b6b21534f4cce92f165e847380034a1edd2638bef2aea3f81e5c3"
=======
   "version": "3.10.5"
  },
  "vscode": {
   "interpreter": {
    "hash": "58dbfdb34cf82127b32c5737e6183911655ff227e5c11e8f5e4b25048ae98ef2"
>>>>>>> d9c9dafed91a9edc3e442b6bc7deb22147f8867f
   }
  }
 },
 "nbformat": 4,
 "nbformat_minor": 2
}
