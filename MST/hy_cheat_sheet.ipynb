{
 "cells": [
  {
   "cell_type": "markdown",
   "metadata": {},
   "source": [
    "# Chapter 1"
   ]
  },
  {
   "cell_type": "code",
   "execution_count": null,
   "metadata": {},
   "outputs": [],
   "source": [
    "# always rmb to use .dot()\n",
    "from sympy import *\n",
    "import numpy as np\n",
    "import math as m\n",
    "co = -232.5 / ((m.sqrt(309))*(m.sqrt(273)))"
   ]
  },
  {
   "cell_type": "code",
   "execution_count": 6,
   "metadata": {},
   "outputs": [],
   "source": [
    "# import numpy\n",
    "import numpy as np"
   ]
  },
  {
   "cell_type": "code",
   "execution_count": 2,
   "metadata": {},
   "outputs": [],
   "source": [
    "# create matrix\n",
    "A = np.arange(9).reshape((3, 3))\n",
    "B = [[1, 4, 2], [0, 6, 3], [3, 5, 6]]\n"
   ]
  },
  {
   "cell_type": "code",
   "execution_count": 3,
   "metadata": {},
   "outputs": [
    {
     "data": {
      "text/plain": [
       "14.2828568570857"
      ]
     },
     "execution_count": 3,
     "metadata": {},
     "output_type": "execute_result"
    }
   ],
   "source": [
    "# show order of matrix\n",
    "A.shape\n",
    "# extracting elements\n",
    "r = 2 # row\n",
    "c = 3 # col\n",
    "A[r-1,c-1]\n",
    "# extracting row\n",
    "A[r-1]\n",
    "# extracting col\n",
    "A[:,c-1]\n",
    "# magnitude\n",
    "np.linalg.norm(A)"
   ]
  },
  {
   "cell_type": "code",
   "execution_count": 4,
   "metadata": {},
   "outputs": [
    {
     "data": {
      "text/plain": [
       "array([[  6,  16,  15],\n",
       "       [ 18,  61,  48],\n",
       "       [ 30, 106,  81]])"
      ]
     },
     "execution_count": 4,
     "metadata": {},
     "output_type": "execute_result"
    }
   ],
   "source": [
    "# matrix addition\n",
    "A + B\n",
    "# matrix subtraction\n",
    "A - B\n",
    "# scalar multiplication\n",
    "3 * A\n",
    "# matrix multiplication\n",
    "A.dot(B)\n",
    "\n",
    "# other eg\n",
    "#For multiplication \n",
    "#Task 2\n",
    "A = np.array([[7,-3],[2,1],[9,-6],[-3,2]])\n",
    "B = np.array([[2],[5]])\n",
    "C = np.array([[5,1,-8,4],[2,7,-3,5]])\n",
    "\n",
    "\n",
    "print(A.dot(C))\n",
    "print(A.dot(B))\n",
    "print(A+C.T)\n",
    "# print(B.dot(A)) not conformable\n",
    "print(A.dot(A.T)+C.T.dot(C))\n",
    "print(A+2*C.T)"
   ]
  },
  {
   "cell_type": "code",
   "execution_count": 5,
   "metadata": {},
   "outputs": [
    {
     "ename": "LinAlgError",
     "evalue": "Singular matrix",
     "output_type": "error",
     "traceback": [
      "\u001b[1;31m---------------------------------------------------------------------------\u001b[0m",
      "\u001b[1;31mLinAlgError\u001b[0m                               Traceback (most recent call last)",
      "\u001b[1;32mc:\\Users\\LG\\OneDrive - Singapore Polytechnic\\Desktop\\MAI\\hy_cheat_sheet.ipynb Cell 6'\u001b[0m in \u001b[0;36m<module>\u001b[1;34m\u001b[0m\n\u001b[0;32m      <a href='vscode-notebook-cell:/c%3A/Users/LG/OneDrive%20-%20Singapore%20Polytechnic/Desktop/MAI/hy_cheat_sheet.ipynb#ch0000005?line=5'>6</a>\u001b[0m np\u001b[39m.\u001b[39mlinalg\u001b[39m.\u001b[39mdet(A)\n\u001b[0;32m      <a href='vscode-notebook-cell:/c%3A/Users/LG/OneDrive%20-%20Singapore%20Polytechnic/Desktop/MAI/hy_cheat_sheet.ipynb#ch0000005?line=6'>7</a>\u001b[0m \u001b[39m# matrix inverse\u001b[39;00m\n\u001b[1;32m----> <a href='vscode-notebook-cell:/c%3A/Users/LG/OneDrive%20-%20Singapore%20Polytechnic/Desktop/MAI/hy_cheat_sheet.ipynb#ch0000005?line=7'>8</a>\u001b[0m np\u001b[39m.\u001b[39;49mlinalg\u001b[39m.\u001b[39;49minv(A)\n",
      "File \u001b[1;32m<__array_function__ internals>:180\u001b[0m, in \u001b[0;36minv\u001b[1;34m(*args, **kwargs)\u001b[0m\n",
      "File \u001b[1;32m~\\AppData\\Local\\Packages\\PythonSoftwareFoundation.Python.3.9_qbz5n2kfra8p0\\LocalCache\\local-packages\\Python39\\site-packages\\numpy\\linalg\\linalg.py:545\u001b[0m, in \u001b[0;36minv\u001b[1;34m(a)\u001b[0m\n\u001b[0;32m    <a href='file:///c%3A/Users/LG/AppData/Local/Packages/PythonSoftwareFoundation.Python.3.9_qbz5n2kfra8p0/LocalCache/local-packages/Python39/site-packages/numpy/linalg/linalg.py?line=542'>543</a>\u001b[0m signature \u001b[39m=\u001b[39m \u001b[39m'\u001b[39m\u001b[39mD->D\u001b[39m\u001b[39m'\u001b[39m \u001b[39mif\u001b[39;00m isComplexType(t) \u001b[39melse\u001b[39;00m \u001b[39m'\u001b[39m\u001b[39md->d\u001b[39m\u001b[39m'\u001b[39m\n\u001b[0;32m    <a href='file:///c%3A/Users/LG/AppData/Local/Packages/PythonSoftwareFoundation.Python.3.9_qbz5n2kfra8p0/LocalCache/local-packages/Python39/site-packages/numpy/linalg/linalg.py?line=543'>544</a>\u001b[0m extobj \u001b[39m=\u001b[39m get_linalg_error_extobj(_raise_linalgerror_singular)\n\u001b[1;32m--> <a href='file:///c%3A/Users/LG/AppData/Local/Packages/PythonSoftwareFoundation.Python.3.9_qbz5n2kfra8p0/LocalCache/local-packages/Python39/site-packages/numpy/linalg/linalg.py?line=544'>545</a>\u001b[0m ainv \u001b[39m=\u001b[39m _umath_linalg\u001b[39m.\u001b[39;49minv(a, signature\u001b[39m=\u001b[39;49msignature, extobj\u001b[39m=\u001b[39;49mextobj)\n\u001b[0;32m    <a href='file:///c%3A/Users/LG/AppData/Local/Packages/PythonSoftwareFoundation.Python.3.9_qbz5n2kfra8p0/LocalCache/local-packages/Python39/site-packages/numpy/linalg/linalg.py?line=545'>546</a>\u001b[0m \u001b[39mreturn\u001b[39;00m wrap(ainv\u001b[39m.\u001b[39mastype(result_t, copy\u001b[39m=\u001b[39m\u001b[39mFalse\u001b[39;00m))\n",
      "File \u001b[1;32m~\\AppData\\Local\\Packages\\PythonSoftwareFoundation.Python.3.9_qbz5n2kfra8p0\\LocalCache\\local-packages\\Python39\\site-packages\\numpy\\linalg\\linalg.py:88\u001b[0m, in \u001b[0;36m_raise_linalgerror_singular\u001b[1;34m(err, flag)\u001b[0m\n\u001b[0;32m     <a href='file:///c%3A/Users/LG/AppData/Local/Packages/PythonSoftwareFoundation.Python.3.9_qbz5n2kfra8p0/LocalCache/local-packages/Python39/site-packages/numpy/linalg/linalg.py?line=86'>87</a>\u001b[0m \u001b[39mdef\u001b[39;00m \u001b[39m_raise_linalgerror_singular\u001b[39m(err, flag):\n\u001b[1;32m---> <a href='file:///c%3A/Users/LG/AppData/Local/Packages/PythonSoftwareFoundation.Python.3.9_qbz5n2kfra8p0/LocalCache/local-packages/Python39/site-packages/numpy/linalg/linalg.py?line=87'>88</a>\u001b[0m     \u001b[39mraise\u001b[39;00m LinAlgError(\u001b[39m\"\u001b[39m\u001b[39mSingular matrix\u001b[39m\u001b[39m\"\u001b[39m)\n",
      "\u001b[1;31mLinAlgError\u001b[0m: Singular matrix"
     ]
    }
   ],
   "source": [
    "# matrix transpose\n",
    "A.T\n",
    "# matrix trace\n",
    "np.trace(A)\n",
    "# matrix determinant\n",
    "np.linalg.det(A) \n",
    "\n",
    "\n",
    "# matrix inverse only for non singular \n",
    "np.linalg.inv(A)\n",
    "# for sympy\n",
    "myMatrix = Matrix([[2,1,4],[-1,-2,-3],[1,-5,-3]])\n",
    "myMatrix.det()\n",
    "myMatrix.inv()\n",
    "myMatrix.norm()"
   ]
  },
  {
   "cell_type": "code",
   "execution_count": null,
   "metadata": {},
   "outputs": [
    {
     "data": {
      "text/plain": [
       "array([[1., 1., 1.]])"
      ]
     },
     "execution_count": 77,
     "metadata": {},
     "output_type": "execute_result"
    }
   ],
   "source": [
    "# identity matrix\n",
    "np.eye(3)\n",
    "# diagonal matrix\n",
    "np.diag((1,5,1))\n",
    "# summing vector\n",
    "np.ones((1,3))"
   ]
  },
  {
   "cell_type": "markdown",
   "metadata": {},
   "source": [
    "# Chapter 2"
   ]
  },
  {
   "cell_type": "code",
   "execution_count": 10,
   "metadata": {},
   "outputs": [],
   "source": [
    "# creating matrix\n",
    "A = np.array([[0, 2, -1], [-2, 6, -2], [-5, 14, -5]], dtype='float')\n",
    "b = np.array([0, 0, 0])"
   ]
  },
  {
   "cell_type": "code",
   "execution_count": 11,
   "metadata": {},
   "outputs": [
    {
     "data": {
      "text/plain": [
       "array([[ 0.,  2., -1.,  0.],\n",
       "       [-2.,  6., -2.,  0.],\n",
       "       [-5., 14., -5.,  0.]])"
      ]
     },
     "execution_count": 11,
     "metadata": {},
     "output_type": "execute_result"
    }
   ],
   "source": [
    "# augmenting matrix\n",
    "Ab = np.hstack([A,b.reshape(-1,1)])\n",
    "Ab"
   ]
  },
  {
   "cell_type": "code",
   "execution_count": 12,
   "metadata": {},
   "outputs": [
    {
     "data": {
      "text/plain": [
       "array([[-2. ,  6. , -2. ,  0. ],\n",
       "       [ 0. ,  2. , -1. ,  0. ],\n",
       "       [ 0. ,  0. , -0.5,  0. ]])"
      ]
     },
     "execution_count": 12,
     "metadata": {},
     "output_type": "execute_result"
    }
   ],
   "source": [
    "# row echelon form\n",
    "n = len(b)\n",
    "#Converts augmented matrix to row echelon form. Modify this part.\n",
    "for i in range(n):\n",
    "    #If leading number is zero, swap with a row below where leading number is non-zero\n",
    "    if Ab[i, i] == 0:\n",
    "        temp = Ab[i].copy()\n",
    "\n",
    "        for k in range(i + 1, n): # Loop through all the next few rows\n",
    "            if Ab[k, i] != 0: # Check Leading number is not 0\n",
    "                Ab[i] = Ab[k].copy() # Copy and switch the row position\n",
    "                Ab[k] = temp.copy()\n",
    "                break\n",
    "    a = Ab[i]\n",
    "    for j in range(i + 1, n):\n",
    "        b = Ab[j]\n",
    "        m = b[i] / a[i]\n",
    "        Ab[j] = b - m * a\n",
    "\n",
    "Ab"
   ]
  },
  {
   "cell_type": "code",
   "execution_count": 13,
   "metadata": {},
   "outputs": [
    {
     "data": {
      "text/plain": [
       "array([[ 1.,  0.,  0.,  0.],\n",
       "       [ 0.,  1.,  0.,  0.],\n",
       "       [-0., -0.,  1., -0.]])"
      ]
     },
     "execution_count": 13,
     "metadata": {},
     "output_type": "execute_result"
    }
   ],
   "source": [
    "# reduced row echelon form\n",
    "for i in range(n - 1, -1, -1):\n",
    "    Ab[i] = Ab[i] / Ab[i, i]\n",
    "    a = Ab[i]\n",
    "    for j in range(i - 1, -1, -1):\n",
    "        b = Ab[j]\n",
    "        if b[i] == 0:\n",
    "            break\n",
    "        m = a[i] / b[i]\n",
    "        Ab[j] = a - m * b\n",
    "\n",
    "Ab"
   ]
  },
  {
   "cell_type": "code",
   "execution_count": 15,
   "metadata": {},
   "outputs": [
    {
     "data": {
      "text/plain": [
       "(Matrix([\n",
       " [1, 0, 0, 0],\n",
       " [0, 1, 0, 0],\n",
       " [0, 0, 1, 0]]),\n",
       " (0, 1, 2))"
      ]
     },
     "execution_count": 15,
     "metadata": {},
     "output_type": "execute_result"
    }
   ],
   "source": [
    "# reduced row echelon form using sympy\n",
    "import sympy as sp\n",
    "M = sp.Matrix([[0,2,-1,0],[-2,6,-2,0],[-5,14,-5,0]])\n",
    "M.rref()"
   ]
  },
  {
   "cell_type": "code",
   "execution_count": null,
   "metadata": {},
   "outputs": [
    {
     "data": {
      "text/latex": [
       "$\\displaystyle \\left\\{\\left( 3.0, \\  1.0, \\  2.0\\right)\\right\\}$"
      ],
      "text/plain": [
       "{(3.0, 1.0, 2.0)}"
      ]
     },
     "execution_count": 83,
     "metadata": {},
     "output_type": "execute_result"
    }
   ],
   "source": [
    "import sympy as sp\n",
    "sp.init_printing()\n",
    "x1, x2,k= sp.symbols('x1 x2 k')\n",
    "\n",
    "A5 = sp.Matrix([[1,-4], [3,12],[2,8]])\n",
    "b5 = sp.Matrix([[0], [0],[0]])\n",
    "sp.linsolve((A5, b5), x1, x2,k)"
   ]
  },
  {
   "cell_type": "markdown",
   "metadata": {},
   "source": [
    "# Chapter 3"
   ]
  },
  {
   "cell_type": "code",
   "execution_count": null,
   "metadata": {},
   "outputs": [],
   "source": [
    "# import data and libraries\n",
    "import numpy as np\n",
    "import pandas as pd\n",
    "data = pd.read_csv(\"Practical3.csv\")\n"
   ]
  },
  {
   "cell_type": "code",
   "execution_count": null,
   "metadata": {},
   "outputs": [
    {
     "data": {
      "text/plain": [
       "Fuel       11.311765\n",
       "Repair      7.632941\n",
       "Capital     9.561176\n",
       "dtype: float64"
      ]
     },
     "execution_count": 67,
     "metadata": {},
     "output_type": "execute_result"
    }
   ],
   "source": [
    "# sample mean vector\n",
    "x_bar = np.mean(data, axis=0)\n",
    "x_bar"
   ]
  },
  {
   "cell_type": "code",
   "execution_count": null,
   "metadata": {},
   "outputs": [
    {
     "data": {
      "text/plain": [
       "array([[ 9.02502103,  5.1557492 ,  3.20167059],\n",
       "       [ 5.1557492 , 14.25869412,  4.31894492],\n",
       "       [ 3.20167059,  4.31894492, 11.98734403]])"
      ]
     },
     "execution_count": 65,
     "metadata": {},
     "output_type": "execute_result"
    }
   ],
   "source": [
    "# sample covariance matrix\n",
    "C = np.cov(data, rowvar=0)\n",
    "C"
   ]
  },
  {
   "cell_type": "code",
   "execution_count": null,
   "metadata": {},
   "outputs": [
    {
     "data": {
      "text/plain": [
       "array([[1.        , 0.45449362, 0.3078159 ],\n",
       "       [0.45449362, 1.        , 0.33035152],\n",
       "       [0.3078159 , 0.33035152, 1.        ]])"
      ]
     },
     "execution_count": 66,
     "metadata": {},
     "output_type": "execute_result"
    }
   ],
   "source": [
    "# sample correlation matrix\n",
    "R = np.corrcoef(data, rowvar=0)\n",
    "R"
   ]
  },
  {
   "cell_type": "code",
   "execution_count": null,
   "metadata": {},
   "outputs": [
    {
     "data": {
      "text/plain": [
       "1052.024887663679"
      ]
     },
     "execution_count": 49,
     "metadata": {},
     "output_type": "execute_result"
    }
   ],
   "source": [
    "# generalised sample variance\n",
    "np.linalg.det(C)"
   ]
  },
  {
   "cell_type": "code",
   "execution_count": null,
   "metadata": {},
   "outputs": [
    {
     "data": {
      "text/plain": [
       "35.27105918003564"
      ]
     },
     "execution_count": 50,
     "metadata": {},
     "output_type": "execute_result"
    }
   ],
   "source": [
    "# total sample variance\n",
    "C.trace()"
   ]
  },
  {
   "cell_type": "markdown",
   "metadata": {},
   "source": [
    "# Chapter 4"
   ]
  },
  {
   "cell_type": "code",
   "execution_count": null,
   "metadata": {},
   "outputs": [],
   "source": [
    "# creating matrix\n",
    "A = np.array([[7, -1], [-1, 4]])"
   ]
  },
  {
   "cell_type": "code",
   "execution_count": null,
   "metadata": {},
   "outputs": [
    {
     "name": "stdout",
     "output_type": "stream",
     "text": [
      "Eigenvalues are:  [7.30277564 3.69722436]\n",
      "Eigenvectors are:  [[ 0.95709203  0.28978415]\n",
      " [-0.28978415  0.95709203]]\n"
     ]
    }
   ],
   "source": [
    "# finding eigenvalues and eigenvectors\n",
    "eigvals, eigvecs = np.linalg.eig(A)\n",
    "print(\"Eigenvalues are: \", eigvals)\n",
    "print(\"Eigenvectors are: \", eigvecs)\n",
    "# ! Note that eigenvectors are normalized"
   ]
  },
  {
   "cell_type": "code",
   "execution_count": null,
   "metadata": {},
   "outputs": [
    {
     "name": "stdout",
     "output_type": "stream",
     "text": [
      "1.6269842683898968e-16\n",
      "2.220446049250313e-16\n",
      "-6.615598963506294e-17\n"
     ]
    }
   ],
   "source": [
    "# Orthogonal Vectors (perpendicular)\n",
    "# v1.T.dot(v2) = 0\n",
    "A = np.array([[1, -1, 0], [-1, 2, -1], [0, -1, 1]])\n",
    "eigvals, eigvecs = np.linalg.eig(A)\n",
    "\n",
    "for i in range(len(A) - 1):\n",
    "    for j in range(i + 1, len(A)):\n",
    "        print(eigvecs[i].T.dot(eigvecs[j]))\n"
   ]
  },
  {
   "cell_type": "code",
   "execution_count": null,
   "metadata": {},
   "outputs": [],
   "source": [
    "#  use Covariance as matrix for eigen vals and eigen vectors\n",
    "# sympy generally faster\n",
    "myMatrix = Matrix([[4,-1],[2,1]])\n",
    "myMatrix.eigenvals()    \n",
    "myMatrix.eigenvects()\n",
    "myMatrix.diagonalize()"
   ]
  },
  {
   "cell_type": "code",
   "execution_count": null,
   "metadata": {},
   "outputs": [],
   "source": []
  },
  {
   "cell_type": "code",
   "execution_count": null,
   "metadata": {},
   "outputs": [],
   "source": []
  },
  {
   "cell_type": "code",
   "execution_count": null,
   "metadata": {},
   "outputs": [],
   "source": []
  }
 ],
 "metadata": {
  "interpreter": {
   "hash": "3a00f272cf4b6b21534f4cce92f165e847380034a1edd2638bef2aea3f81e5c3"
  },
  "kernelspec": {
   "display_name": "Python 3.9.13 64-bit (windows store)",
   "language": "python",
   "name": "python3"
  },
  "language_info": {
   "codemirror_mode": {
    "name": "ipython",
    "version": 3
   },
   "file_extension": ".py",
   "mimetype": "text/x-python",
   "name": "python",
   "nbconvert_exporter": "python",
   "pygments_lexer": "ipython3",
   "version": "3.9.13"
  },
  "orig_nbformat": 4
 },
 "nbformat": 4,
 "nbformat_minor": 2
}
