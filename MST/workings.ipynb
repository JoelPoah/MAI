{
 "cells": [
  {
   "cell_type": "markdown",
   "metadata": {},
   "source": [
    "# Matrix Format"
   ]
  },
  {
   "cell_type": "code",
   "execution_count": null,
   "metadata": {},
   "outputs": [],
   "source": [
    "# a = np.array([]).reshape()\n",
    "# a = sp.Matrix([]).reshape()"
   ]
  },
  {
   "cell_type": "markdown",
   "metadata": {},
   "source": [
    "# Characteristic Equation"
   ]
  },
  {
   "cell_type": "code",
   "execution_count": 11,
   "metadata": {},
   "outputs": [
    {
     "name": "stdout",
     "output_type": "stream",
     "text": [
      "FiniteSet((0, 0))\n"
     ]
    }
   ],
   "source": [
    "import sympy as sp\n",
    "\n",
    "n = 7\n",
    "A = sp.Matrix([4-n, 3, 0, 2, 5-n, 0]).reshape(2, 3)\n",
    "a, b = sp.symbols(\"a, b\")\n",
    "x = sp.linsolve(A, a, b)\n",
    "print (x)"
   ]
  },
  {
   "cell_type": "code",
   "execution_count": 11,
   "metadata": {},
   "outputs": [
    {
     "name": "stdout",
     "output_type": "stream",
     "text": [
      "Matrix([[-3, 2, -1, 0], [-2, 4, -2, 0], [-5, 14, -7, 0]])\n",
      "FiniteSet((0, c/2, c))\n"
     ]
    }
   ],
   "source": [
    "import sympy as sp\n",
    "\n",
    "n = 3\n",
    "A = sp.Matrix([0, 2, -1, 0, -2, 7, -2, 0, -5, 14, -4, 0]).reshape(3, 4)\n",
    "B = sp.Matrix([n, 0, 0, 0, 0, n, 0, 0, 0, 0, n, 0]).reshape(3, 4)\n",
    "C = A-B\n",
    "print (C)\n",
    "a, b, c = sp.symbols(\"a, b, c\")\n",
    "x = sp.linsolve(C, a, b, c)\n",
    "print (x)"
   ]
  },
  {
   "cell_type": "markdown",
   "metadata": {},
   "source": [
    "# GJE for 3 equation"
   ]
  },
  {
   "cell_type": "code",
   "execution_count": 21,
   "metadata": {},
   "outputs": [
    {
     "name": "stdout",
     "output_type": "stream",
     "text": [
      "FiniteSet((0, 0, 0))\n"
     ]
    }
   ],
   "source": [
    "import sympy as sp\n",
    "\n",
    "A = sp.Matrix([0, 2, -1, 0, -2, 7, -2, 0, -5, 14, -4, 0]).reshape(3, 4)\n",
    "a, b, c = sp.symbols(\"a, b, c\")\n",
    "print (sp.linsolve(A, a, b, c))"
   ]
  },
  {
   "cell_type": "markdown",
   "metadata": {},
   "source": [
    "# GJE for 2 equation"
   ]
  },
  {
   "cell_type": "code",
   "execution_count": 22,
   "metadata": {},
   "outputs": [
    {
     "name": "stdout",
     "output_type": "stream",
     "text": [
      "FiniteSet((-3*b/2, b))\n"
     ]
    }
   ],
   "source": [
    "import sympy as sp\n",
    "\n",
    "A = sp.Matrix([4, 6, 0, 2, 3, 0]).reshape(2, 3)\n",
    "a, b = sp.symbols(\"a, b\")\n",
    "print (sp.linsolve(A, a, b))"
   ]
  },
  {
   "cell_type": "markdown",
   "metadata": {},
   "source": [
    "# Roots of Eqn"
   ]
  },
  {
   "cell_type": "code",
   "execution_count": 7,
   "metadata": {},
   "outputs": [
    {
     "name": "stdout",
     "output_type": "stream",
     "text": [
      "[ 7. -3. -1.]\n"
     ]
    }
   ],
   "source": [
    "import numpy as np\n",
    "x = [1, -3, -25, -21]\n",
    "y = np.roots(x)\n",
    "print (y)"
   ]
  },
  {
   "cell_type": "markdown",
   "metadata": {},
   "source": [
    "# Finding Inverse"
   ]
  },
  {
   "cell_type": "code",
   "execution_count": 12,
   "metadata": {},
   "outputs": [
    {
     "name": "stdout",
     "output_type": "stream",
     "text": [
      "[[ 0.   0.5]\n",
      " [ 1.  -0.5]]\n"
     ]
    }
   ],
   "source": [
    "import numpy as np\n",
    "\n",
    "A = np.array([1, 1, 2, 0]).reshape(2, 2)\n",
    "print (np.linalg.inv(A))"
   ]
  },
  {
   "cell_type": "code",
   "execution_count": 59,
   "metadata": {},
   "outputs": [],
   "source": [
    "import numpy as np\n",
    "# from fractions import Fraction\n",
    "# np.set_printoptions(formatter={'all': lambda x: str(Fraction(x).limit_denominator())})\n",
    "# np.set_printoptions(suppress=True)\n",
    "\n",
    "A = np.array([1, 1, 1, 10, 20, 30, 16, 200, 2.4, 1.9, 1.8, 20]).reshape(3, 4)\n",
    "\n",
    "# Interchange two rows\n",
    "# temp1 = row1.copy()\n",
    "# temp2 = row2.copy()\n",
    "# row1 = temp2\n",
    "# row2 = temp1\n",
    "\n",
    "# add/subtract scalar multiple of another row\n",
    "# row += a* row2, a is the scalar multiple to be added/subtracted\n",
    "\n",
    "# Multiply a row by a nonzero constant\n",
    "# row *= a, a is the scalar to be multiplied"
   ]
  },
  {
   "cell_type": "markdown",
   "metadata": {},
   "source": [
    "# Chapter 3"
   ]
  },
  {
   "cell_type": "code",
   "execution_count": 108,
   "metadata": {},
   "outputs": [],
   "source": [
    "# sample mean\n",
    "# np.mean(data, axis=0)\n",
    "# 1/len(x) * x.T@(np.ones((len(x), 1)))\n",
    "\n",
    "# covariance\n",
    "# np.cov(data, rowvar=0)\n",
    "# 1/(len(x)-1) * (x - np.ones((len(x), 1))@x_bar.T).T@(x - np.ones((len(x), 1))@x_bar.T)\n",
    "\n",
    "# sample standard deviation matrix\n",
    "# s = np.zeros(c.shape)\n",
    "# for i in range (len(s)):\n",
    "#     s[i][i] = math.sqrt(c[i][i])\n",
    "\n",
    "# correlation\n",
    "# r = np.corrcoef(data, rowvar=0)\n",
    "# np.linalg.inv(s)@c@np.linalg.inv(s)\n",
    "\n",
    "# determinant\n",
    "# np.linalg.det(C)\n",
    "\n",
    "# trace\n",
    "# np.trace(C)"
   ]
  },
  {
   "cell_type": "markdown",
   "metadata": {},
   "source": [
    "# Eigenvalues + Eigenvectors"
   ]
  },
  {
   "cell_type": "code",
   "execution_count": 114,
   "metadata": {},
   "outputs": [],
   "source": [
    "# eigenvalues, eigenvectors = np.linalg.eig(c)"
   ]
  },
  {
   "cell_type": "markdown",
   "metadata": {},
   "source": [
    "# Matrix multiplication"
   ]
  },
  {
   "cell_type": "code",
   "execution_count": 116,
   "metadata": {},
   "outputs": [],
   "source": [
    "# x = np.dot(np.dot(a, b), c)\n",
    "# y = a.dot(b).dot(c)\n",
    "# z = a@b@c"
   ]
  },
  {
   "cell_type": "code",
   "execution_count": 142,
   "metadata": {},
   "outputs": [
    {
     "name": "stdout",
     "output_type": "stream",
     "text": [
      "[[-2]\n",
      " [2]\n",
      " [0]]\n"
     ]
    },
    {
     "ename": "",
     "evalue": "",
     "output_type": "error",
     "traceback": [
      "\u001b[1;31mThe Kernel crashed while executing code in the the current cell or a previous cell. Please review the code in the cell(s) to identify a possible cause of the failure. Click <a href='https://aka.ms/vscodeJupyterKernelCrash'>here</a> for more info. View Jupyter <a href='command:jupyter.viewOutput'>log</a> for further details."
     ]
    }
   ],
   "source": [
    "import numpy as np\n",
    "from fractions import Fraction\n",
    "np.set_printoptions(formatter={'all': lambda x: str(Fraction(x).limit_denominator())})\n",
    "\n",
    "a = np.array([0, -2, -5, 1, 3, 1, -1, -1, 1]).reshape(3, 3)\n",
    "w = np.array([-1, 1, 0]).reshape(3, 1)\n",
    "print (a@w)"
   ]
  }
 ],
 "metadata": {
  "interpreter": {
   "hash": "0f0ec4a0ca259b711e8a39c9269dbfa47daeeaf223f759dc8d319144427406ed"
  },
  "kernelspec": {
   "display_name": "Python 3.8.8 ('base')",
   "language": "python",
   "name": "python3"
  },
  "language_info": {
   "codemirror_mode": {
    "name": "ipython",
    "version": 3
   },
   "file_extension": ".py",
   "mimetype": "text/x-python",
   "name": "python",
   "nbconvert_exporter": "python",
   "pygments_lexer": "ipython3",
   "version": "3.8.8"
  },
  "orig_nbformat": 4
 },
 "nbformat": 4,
 "nbformat_minor": 2
}
