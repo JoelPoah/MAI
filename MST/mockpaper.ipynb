{
 "cells": [
  {
   "cell_type": "code",
   "execution_count": 18,
   "metadata": {},
   "outputs": [],
   "source": [
    "#pip install sympy\n"
   ]
  },
  {
   "cell_type": "code",
   "execution_count": 76,
   "metadata": {},
   "outputs": [
    {
     "name": "stdout",
     "output_type": "stream",
     "text": [
      "Matrix([[2, 5], [0, -1]])\n"
     ]
    }
   ],
   "source": [
    "from sympy import *\n",
    "import numpy as np\n",
    "A = Matrix([[2,4],[1,5]])\n",
    "\n",
    "C = np.array([[-2,3],[1,5]])\n",
    "B = Matrix([[0,1],[-1,6]])\n",
    "Y = A-B.T\n",
    "print(Y)"
   ]
  },
  {
   "cell_type": "code",
   "execution_count": 26,
   "metadata": {},
   "outputs": [
    {
     "name": "stdout",
     "output_type": "stream",
     "text": [
      "1\n"
     ]
    }
   ],
   "source": [
    "print(B.det())"
   ]
  },
  {
   "cell_type": "code",
   "execution_count": 20,
   "metadata": {},
   "outputs": [
    {
     "name": "stdout",
     "output_type": "stream",
     "text": [
      "[[ 1 -1]\n",
      " [ 5 38]]\n"
     ]
    }
   ],
   "source": [
    "P = A +(B.T.dot(C))# always rmb to use .dot()\n",
    "print(P)"
   ]
  },
  {
   "cell_type": "code",
   "execution_count": 32,
   "metadata": {},
   "outputs": [
    {
     "name": "stdout",
     "output_type": "stream",
     "text": [
      "Matrix([[12, -2], [2, 0]])\n"
     ]
    }
   ],
   "source": [
    "print(2*B.inv())"
   ]
  },
  {
   "cell_type": "code",
   "execution_count": 36,
   "metadata": {},
   "outputs": [
    {
     "data": {
      "text/plain": [
       "(Matrix([\n",
       " [1, 0,  0.694117647058824, 6.47058823529412],\n",
       " [0, 1, 0.0705882352941176, 2.35294117647059]]),\n",
       " (0, 1))"
      ]
     },
     "execution_count": 36,
     "metadata": {},
     "output_type": "execute_result"
    }
   ],
   "source": [
    "M = Matrix([[20,30,16,200],[2.4,1.9,1.8,20]])\n",
    "M.rref()"
   ]
  },
  {
   "cell_type": "code",
   "execution_count": 41,
   "metadata": {},
   "outputs": [
    {
     "data": {
      "image/png": "[encoded data removed]",
      "text/latex": [
       "$\\displaystyle \\left\\{\\left( 3.0, \\  2.0, \\  5.0\\right)\\right\\}$"
      ],
      "text/plain": [
       "{(3.0, 2.0, 5.0)}"
      ]
     },
     "execution_count": 41,
     "metadata": {},
     "output_type": "execute_result"
    }
   ],
   "source": [
    "import sympy as sp\n",
    "sp.init_printing()\n",
    "A, B,C= sp.symbols('A B C')\n",
    "\n",
    "A5 = sp.Matrix([[1,1,1],[20,30,16], [2.4,1.9,1.8]])\n",
    "b5 = sp.Matrix([[10],[200], [20]])\n",
    "sp.linsolve((A5, b5), A,B,C)"
   ]
  },
  {
   "cell_type": "code",
   "execution_count": 74,
   "metadata": {},
   "outputs": [
    {
     "name": "stderr",
     "output_type": "stream",
     "text": [
      "C:\\Users\\LG\\AppData\\Local\\Temp\\ipykernel_24968\\2191984197.py:2: SymPyDeprecationWarning: \n",
      "\n",
      "Using the dot method to multiply non-row/column vectors is\n",
      "deprecated. Use * or @ to perform matrix multiplication.\n",
      "\n",
      "See https://docs.sympy.org/latest/explanation/active-deprecations.html#deprecated-matrix-dot-non-vector\n",
      "for details.\n",
      "\n",
      "This has been deprecated since SymPy version 1.2. It\n",
      "will be removed in a future version of SymPy.\n",
      "\n",
      "  C = (M).dot((M.T))\n"
     ]
    },
    {
     "data": {
      "image/png": "[encoded data removed]",
      "text/latex": [
       "$\\displaystyle \\left[ 618, \\  -465, \\  -465, \\  546\\right]$"
      ],
      "text/plain": [
       "[618, -465, -465, 546]"
      ]
     },
     "execution_count": 74,
     "metadata": {},
     "output_type": "execute_result"
    }
   ],
   "source": [
    "M = sp.Matrix([[7,-16],[13,-1],[-20,17]])\n",
    "C = (M).dot((M.T))\n",
    "C"
   ]
  },
  {
   "cell_type": "code",
   "execution_count": 88,
   "metadata": {},
   "outputs": [
    {
     "data": {
      "text/plain": [
       "array([[ 309. , -232.5],\n",
       "       [-232.5,  273. ]])"
      ]
     },
     "execution_count": 88,
     "metadata": {},
     "output_type": "execute_result"
    }
   ],
   "source": [
    "M = np.array([[7,-16],[13,-1],[-20,17]])\n",
    "C = M.T.dot(M)\n",
    "C =C * 0.5\n",
    "C"
   ]
  },
  {
   "cell_type": "code",
   "execution_count": 123,
   "metadata": {},
   "outputs": [
    {
     "name": "stdout",
     "output_type": "stream",
     "text": [
      "[[ 0.00323625 -0.00275614]\n",
      " [-0.00275614  0.003663  ]]\n"
     ]
    }
   ],
   "source": [
    "from numpy.linalg import matrix_power\n",
    "S = np.array([[309,0],[0,273]])\n",
    "S = matrix_power(S,-1)\n",
    "Corr = S.dot(C)\n",
    "new = Corr.dot(S)\n",
    "print(new)"
   ]
  },
  {
   "cell_type": "code",
   "execution_count": 117,
   "metadata": {},
   "outputs": [
    {
     "ename": "TypeError",
     "evalue": "only size-1 arrays can be converted to Python scalars",
     "output_type": "error",
     "traceback": [
      "\u001b[1;31m---------------------------------------------------------------------------\u001b[0m",
      "\u001b[1;31mTypeError\u001b[0m                                 Traceback (most recent call last)",
      "\u001b[1;32mc:\\Users\\LG\\OneDrive - Singapore Polytechnic\\Desktop\\MAI\\mockpaper.ipynb Cell 11'\u001b[0m in \u001b[0;36m<module>\u001b[1;34m\u001b[0m\n\u001b[0;32m      <a href='vscode-notebook-cell:/c%3A/Users/LG/OneDrive%20-%20Singapore%20Polytechnic/Desktop/MAI/mockpaper.ipynb#ch0000011?line=0'>1</a>\u001b[0m \u001b[39mimport\u001b[39;00m \u001b[39mmath\u001b[39;00m \u001b[39mas\u001b[39;00m \u001b[39mm\u001b[39;00m\n\u001b[0;32m      <a href='vscode-notebook-cell:/c%3A/Users/LG/OneDrive%20-%20Singapore%20Polytechnic/Desktop/MAI/mockpaper.ipynb#ch0000011?line=1'>2</a>\u001b[0m S \u001b[39m=\u001b[39m np\u001b[39m.\u001b[39marray([[\u001b[39m309\u001b[39m,\u001b[39m0\u001b[39m],[\u001b[39m0\u001b[39m,\u001b[39m273\u001b[39m]])\n\u001b[1;32m----> <a href='vscode-notebook-cell:/c%3A/Users/LG/OneDrive%20-%20Singapore%20Polytechnic/Desktop/MAI/mockpaper.ipynb#ch0000011?line=2'>3</a>\u001b[0m S \u001b[39m=\u001b[39m m\u001b[39m.\u001b[39;49msqrt(S)\n\u001b[0;32m      <a href='vscode-notebook-cell:/c%3A/Users/LG/OneDrive%20-%20Singapore%20Polytechnic/Desktop/MAI/mockpaper.ipynb#ch0000011?line=3'>4</a>\u001b[0m S\n",
      "\u001b[1;31mTypeError\u001b[0m: only size-1 arrays can be converted to Python scalars"
     ]
    }
   ],
   "source": [
    "import math as m\n",
    "S = np.array([[309,0],[0,273]])\n",
    "S = matrix_power(S,-1)\n",
    "S"
   ]
  },
  {
   "cell_type": "code",
   "execution_count": 115,
   "metadata": {},
   "outputs": [],
   "source": [
    "import math as m\n",
    "co = -232.5 / ((m.sqrt(309))*(m.sqrt(273)))"
   ]
  },
  {
   "cell_type": "code",
   "execution_count": 124,
   "metadata": {},
   "outputs": [
    {
     "ename": "TypeError",
     "evalue": "ufunc 'isfinite' not supported for the input types, and the inputs could not be safely coerced to any supported types according to the casting rule ''safe''",
     "output_type": "error",
     "traceback": [
      "\u001b[1;31m---------------------------------------------------------------------------\u001b[0m",
      "\u001b[1;31mTypeError\u001b[0m                                 Traceback (most recent call last)",
      "\u001b[1;32mc:\\Users\\LG\\OneDrive - Singapore Polytechnic\\Desktop\\MAI\\mockpaper.ipynb Cell 13'\u001b[0m in \u001b[0;36m<module>\u001b[1;34m\u001b[0m\n\u001b[0;32m      <a href='vscode-notebook-cell:/c%3A/Users/LG/OneDrive%20-%20Singapore%20Polytechnic/Desktop/MAI/mockpaper.ipynb#ch0000015?line=0'>1</a>\u001b[0m \u001b[39m# for numpy\u001b[39;00m\n\u001b[1;32m----> <a href='vscode-notebook-cell:/c%3A/Users/LG/OneDrive%20-%20Singapore%20Polytechnic/Desktop/MAI/mockpaper.ipynb#ch0000015?line=1'>2</a>\u001b[0m eigvals, eigvecs \u001b[39m=\u001b[39m np\u001b[39m.\u001b[39;49mlinalg\u001b[39m.\u001b[39;49meig(A)\n\u001b[0;32m      <a href='vscode-notebook-cell:/c%3A/Users/LG/OneDrive%20-%20Singapore%20Polytechnic/Desktop/MAI/mockpaper.ipynb#ch0000015?line=2'>3</a>\u001b[0m \u001b[39mprint\u001b[39m(eigvals)\n\u001b[0;32m      <a href='vscode-notebook-cell:/c%3A/Users/LG/OneDrive%20-%20Singapore%20Polytechnic/Desktop/MAI/mockpaper.ipynb#ch0000015?line=3'>4</a>\u001b[0m \u001b[39mprint\u001b[39m(eigvecs)\n",
      "File \u001b[1;32m<__array_function__ internals>:180\u001b[0m, in \u001b[0;36meig\u001b[1;34m(*args, **kwargs)\u001b[0m\n",
      "File \u001b[1;32m~\\AppData\\Local\\Packages\\PythonSoftwareFoundation.Python.3.9_qbz5n2kfra8p0\\LocalCache\\local-packages\\Python39\\site-packages\\numpy\\linalg\\linalg.py:1305\u001b[0m, in \u001b[0;36meig\u001b[1;34m(a)\u001b[0m\n\u001b[0;32m   <a href='file:///c%3A/Users/LG/AppData/Local/Packages/PythonSoftwareFoundation.Python.3.9_qbz5n2kfra8p0/LocalCache/local-packages/Python39/site-packages/numpy/linalg/linalg.py?line=1302'>1303</a>\u001b[0m _assert_stacked_2d(a)\n\u001b[0;32m   <a href='file:///c%3A/Users/LG/AppData/Local/Packages/PythonSoftwareFoundation.Python.3.9_qbz5n2kfra8p0/LocalCache/local-packages/Python39/site-packages/numpy/linalg/linalg.py?line=1303'>1304</a>\u001b[0m _assert_stacked_square(a)\n\u001b[1;32m-> <a href='file:///c%3A/Users/LG/AppData/Local/Packages/PythonSoftwareFoundation.Python.3.9_qbz5n2kfra8p0/LocalCache/local-packages/Python39/site-packages/numpy/linalg/linalg.py?line=1304'>1305</a>\u001b[0m _assert_finite(a)\n\u001b[0;32m   <a href='file:///c%3A/Users/LG/AppData/Local/Packages/PythonSoftwareFoundation.Python.3.9_qbz5n2kfra8p0/LocalCache/local-packages/Python39/site-packages/numpy/linalg/linalg.py?line=1305'>1306</a>\u001b[0m t, result_t \u001b[39m=\u001b[39m _commonType(a)\n\u001b[0;32m   <a href='file:///c%3A/Users/LG/AppData/Local/Packages/PythonSoftwareFoundation.Python.3.9_qbz5n2kfra8p0/LocalCache/local-packages/Python39/site-packages/numpy/linalg/linalg.py?line=1307'>1308</a>\u001b[0m extobj \u001b[39m=\u001b[39m get_linalg_error_extobj(\n\u001b[0;32m   <a href='file:///c%3A/Users/LG/AppData/Local/Packages/PythonSoftwareFoundation.Python.3.9_qbz5n2kfra8p0/LocalCache/local-packages/Python39/site-packages/numpy/linalg/linalg.py?line=1308'>1309</a>\u001b[0m     _raise_linalgerror_eigenvalues_nonconvergence)\n",
      "File \u001b[1;32m~\\AppData\\Local\\Packages\\PythonSoftwareFoundation.Python.3.9_qbz5n2kfra8p0\\LocalCache\\local-packages\\Python39\\site-packages\\numpy\\linalg\\linalg.py:207\u001b[0m, in \u001b[0;36m_assert_finite\u001b[1;34m(*arrays)\u001b[0m\n\u001b[0;32m    <a href='file:///c%3A/Users/LG/AppData/Local/Packages/PythonSoftwareFoundation.Python.3.9_qbz5n2kfra8p0/LocalCache/local-packages/Python39/site-packages/numpy/linalg/linalg.py?line=204'>205</a>\u001b[0m \u001b[39mdef\u001b[39;00m \u001b[39m_assert_finite\u001b[39m(\u001b[39m*\u001b[39marrays):\n\u001b[0;32m    <a href='file:///c%3A/Users/LG/AppData/Local/Packages/PythonSoftwareFoundation.Python.3.9_qbz5n2kfra8p0/LocalCache/local-packages/Python39/site-packages/numpy/linalg/linalg.py?line=205'>206</a>\u001b[0m     \u001b[39mfor\u001b[39;00m a \u001b[39min\u001b[39;00m arrays:\n\u001b[1;32m--> <a href='file:///c%3A/Users/LG/AppData/Local/Packages/PythonSoftwareFoundation.Python.3.9_qbz5n2kfra8p0/LocalCache/local-packages/Python39/site-packages/numpy/linalg/linalg.py?line=206'>207</a>\u001b[0m         \u001b[39mif\u001b[39;00m \u001b[39mnot\u001b[39;00m isfinite(a)\u001b[39m.\u001b[39mall():\n\u001b[0;32m    <a href='file:///c%3A/Users/LG/AppData/Local/Packages/PythonSoftwareFoundation.Python.3.9_qbz5n2kfra8p0/LocalCache/local-packages/Python39/site-packages/numpy/linalg/linalg.py?line=207'>208</a>\u001b[0m             \u001b[39mraise\u001b[39;00m LinAlgError(\u001b[39m\"\u001b[39m\u001b[39mArray must not contain infs or NaNs\u001b[39m\u001b[39m\"\u001b[39m)\n",
      "\u001b[1;31mTypeError\u001b[0m: ufunc 'isfinite' not supported for the input types, and the inputs could not be safely coerced to any supported types according to the casting rule ''safe''"
     ]
    }
   ],
   "source": [
    "\n",
    "# for numpy\n",
    "eigvals, eigvecs = np.linalg.eig(A)\n",
    "print(eigvals)\n",
    "print(eigvecs)\n",
    "\n",
    "# or for sympy\n",
    "new = Matrix(C)\n",
    "new.eigenvals()\n",
    "new.eigenvects()"
   ]
  },
  {
   "cell_type": "code",
   "execution_count": 162,
   "metadata": {},
   "outputs": [
    {
     "name": "stdout",
     "output_type": "stream",
     "text": [
      "[[0 1/2]\n",
      " [1 -1/2]]\n"
     ]
    }
   ],
   "source": [
    "v = Matrix([[1,1],[2,0]])\n",
    "vi = v.inv()\n",
    "vi = np.array(vi)\n",
    "print(vi)\n",
    "v = np.array(v)\n",
    "vi = np.array(vi)"
   ]
  },
  {
   "cell_type": "code",
   "execution_count": 163,
   "metadata": {},
   "outputs": [
    {
     "data": {
      "text/plain": [
       "array([[2, -3/2],\n",
       "       [0, -1]], dtype=object)"
      ]
     },
     "execution_count": 163,
     "metadata": {},
     "output_type": "execute_result"
    }
   ],
   "source": [
    "lamb = np.array([[-1,0],[0,2]])\n",
    "lol = v.dot(lamb)\n",
    "ans = lol.dot(vi)\n",
    "ans "
   ]
  },
  {
   "cell_type": "code",
   "execution_count": 157,
   "metadata": {},
   "outputs": [],
   "source": [
    "v = np.array([[1,1],[0,2]])\n",
    "lamb = np.array([[0,-1],[2,0]])\n",
    "vi = np.array([[1,-0.5],[0,0.5]])\n",
    "p = v.dot(lamb)\n",
    "ans = p.dot(vi)"
   ]
  },
  {
   "cell_type": "code",
   "execution_count": 158,
   "metadata": {},
   "outputs": [
    {
     "data": {
      "text/plain": [
       "array([[ 2. , -1.5],\n",
       "       [ 4. , -2. ]])"
      ]
     },
     "execution_count": 158,
     "metadata": {},
     "output_type": "execute_result"
    }
   ],
   "source": [
    "ans"
   ]
  },
  {
   "cell_type": "code",
   "execution_count": 175,
   "metadata": {},
   "outputs": [
    {
     "name": "stdout",
     "output_type": "stream",
     "text": [
      "[[-1  2]\n",
      " [-2  0]]\n"
     ]
    }
   ],
   "source": [
    "a = np.array([[1,1],[2,0]])\n",
    "b = np.array([[-1,0],[0,2]])\n",
    "\n",
    "d = a.dot(b)\n",
    "print(d)"
   ]
  },
  {
   "cell_type": "code",
   "execution_count": 176,
   "metadata": {},
   "outputs": [
    {
     "data": {
      "text/latex": [
       "$\\displaystyle \\left[\\begin{matrix}0 & \\frac{1}{2}\\\\1 & - \\frac{1}{2}\\end{matrix}\\right]$"
      ],
      "text/plain": [
       "⎡0  1/2 ⎤\n",
       "⎢       ⎥\n",
       "⎣1  -1/2⎦"
      ]
     },
     "execution_count": 176,
     "metadata": {},
     "output_type": "execute_result"
    }
   ],
   "source": [
    "c= Matrix(a).inv()\n",
    "c"
   ]
  }
 ],
 "metadata": {
  "interpreter": {
   "hash": "3a00f272cf4b6b21534f4cce92f165e847380034a1edd2638bef2aea3f81e5c3"
  },
  "kernelspec": {
   "display_name": "Python 3.9.13 64-bit (windows store)",
   "language": "python",
   "name": "python3"
  },
  "language_info": {
   "codemirror_mode": {
    "name": "ipython",
    "version": 3
   },
   "file_extension": ".py",
   "mimetype": "text/x-python",
   "name": "python",
   "nbconvert_exporter": "python",
   "pygments_lexer": "ipython3",
   "version": "3.9.13"
  },
  "orig_nbformat": 4
 },
 "nbformat": 4,
 "nbformat_minor": 2
}
