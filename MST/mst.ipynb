{
 "cells": [
  {
   "cell_type": "code",
   "execution_count": null,
   "metadata": {},
   "outputs": [],
   "source": [
    "#pip install sympy"
   ]
  },
  {
   "cell_type": "code",
   "execution_count": null,
   "metadata": {},
   "outputs": [],
   "source": []
  },
  {
   "cell_type": "code",
   "execution_count": 10,
   "metadata": {},
   "outputs": [],
   "source": [
    "import numpy as np\n",
    "import sympy as s"
   ]
  },
  {
   "cell_type": "code",
   "execution_count": null,
   "metadata": {},
   "outputs": [],
   "source": [
    "A = np.array([[-1,1,-2],[0,2,3]])\n",
    "B = np.array([[-3,1],[0,1],[-2,1]])\n",
    "\n",
    "\n",
    "\n",
    "print(A.dot(B))"
   ]
  },
  {
   "cell_type": "code",
   "execution_count": null,
   "metadata": {},
   "outputs": [],
   "source": [
    "A = np.array([[-3,0,-2],[1,1,1]])\n",
    "B = np.array([[-1,0],[1,2],[-2,3]])\n",
    "\n",
    "\n",
    "\n",
    "print(A.dot(B))"
   ]
  },
  {
   "cell_type": "code",
   "execution_count": 11,
   "metadata": {},
   "outputs": [
    {
     "name": "stdout",
     "output_type": "stream",
     "text": [
      "Matrix([[-2/13, 3/13], [7/13, -4/13]])\n"
     ]
    }
   ],
   "source": [
    "C = s.Matrix([[4,3],[7,2]])\n",
    "print(C.inv())"
   ]
  },
  {
   "cell_type": "code",
   "execution_count": 13,
   "metadata": {},
   "outputs": [
    {
     "data": {
      "text/plain": [
       "(Matrix([\n",
       " [1, 0, 0,  1],\n",
       " [0, 1, 0, -1],\n",
       " [0, 0, 1,  2]]),\n",
       " (0, 1, 2))"
      ]
     },
     "execution_count": 13,
     "metadata": {},
     "output_type": "execute_result"
    }
   ],
   "source": [
    "M = s.Matrix([[1,2,-1,-3],[0,1,2,3],[0,-2,1,4]])\n",
    "M.rref()"
   ]
  },
  {
   "cell_type": "code",
   "execution_count": 14,
   "metadata": {},
   "outputs": [
    {
     "name": "stdout",
     "output_type": "stream",
     "text": [
      "{(1, -1, 2)}\n"
     ]
    }
   ],
   "source": [
    "A = s.Matrix([1, 2, -1, -3, 0, 1, 2, 3, 0, -2, 1, 4]).reshape(3, 4)\n",
    "a, b, c = s.symbols(\"a, b, c\")\n",
    "print (s.linsolve(A, a, b, c))"
   ]
  },
  {
   "cell_type": "code",
   "execution_count": 15,
   "metadata": {},
   "outputs": [
    {
     "name": "stdout",
     "output_type": "stream",
     "text": [
      "[12.         42.66666667]\n"
     ]
    }
   ],
   "source": [
    "X= np.array([[10,40],[11,45],[15,43]])\n",
    "print(np.mean(X, axis=0))"
   ]
  },
  {
   "cell_type": "code",
   "execution_count": 16,
   "metadata": {},
   "outputs": [
    {
     "data": {
      "text/plain": [
       "array([[7.        , 2.        ],\n",
       "       [2.        , 6.33333333]])"
      ]
     },
     "execution_count": 16,
     "metadata": {},
     "output_type": "execute_result"
    }
   ],
   "source": [
    "np.cov(X, rowvar=0)"
   ]
  },
  {
   "cell_type": "code",
   "execution_count": 18,
   "metadata": {},
   "outputs": [
    {
     "name": "stdout",
     "output_type": "stream",
     "text": [
      "[[54.6666]]\n"
     ]
    }
   ],
   "source": [
    "X= np.array([[1],[1]])\n",
    "Y= np.array([[12,42.6666]])\n",
    "print(Y.dot(X))"
   ]
  },
  {
   "cell_type": "code",
   "execution_count": 19,
   "metadata": {},
   "outputs": [
    {
     "name": "stdout",
     "output_type": "stream",
     "text": [
      "Eigenvalues are:  [ 1. -2.  2.]\n",
      "Eigenvectors are:  [[ 0.57735027  0.          0.40824829]\n",
      " [ 0.57735027 -0.70710678  0.40824829]\n",
      " [ 0.57735027 -0.70710678  0.81649658]]\n"
     ]
    }
   ],
   "source": [
    "A = np.array([[1,-1,1],[3,-3,1],[3,-5,3]])\n",
    "eigvals, eigvecs = np.linalg.eig(A)\n",
    "print(\"Eigenvalues are: \", eigvals)\n",
    "print(\"Eigenvectors are: \", eigvecs)"
   ]
  },
  {
   "cell_type": "code",
   "execution_count": 22,
   "metadata": {},
   "outputs": [
    {
     "name": "stdout",
     "output_type": "stream",
     "text": [
      "[[ 0]\n",
      " [-2]\n",
      " [-2]]\n"
     ]
    }
   ],
   "source": [
    "X= np.array([[1,-1,1],[3,-3,1],[3,-5,3]])\n",
    "Y= np.array([[0],[1],[1]])\n",
    "print(X.dot(Y))"
   ]
  }
 ],
 "metadata": {
  "interpreter": {
   "hash": "3a00f272cf4b6b21534f4cce92f165e847380034a1edd2638bef2aea3f81e5c3"
  },
  "kernelspec": {
   "display_name": "Python 3.9.13 64-bit (windows store)",
   "language": "python",
   "name": "python3"
  },
  "language_info": {
   "codemirror_mode": {
    "name": "ipython",
    "version": 3
   },
   "file_extension": ".py",
   "mimetype": "text/x-python",
   "name": "python",
   "nbconvert_exporter": "python",
   "pygments_lexer": "ipython3",
   "version": "3.9.13"
  },
  "orig_nbformat": 4
 },
 "nbformat": 4,
 "nbformat_minor": 2
}
