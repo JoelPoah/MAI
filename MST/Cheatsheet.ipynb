{
 "cells": [
  {
   "cell_type": "code",
   "execution_count": null,
   "metadata": {},
   "outputs": [],
   "source": [
    "#pip install sympy\n"
   ]
  },
  {
   "cell_type": "code",
   "execution_count": null,
   "metadata": {},
   "outputs": [],
   "source": [
    "# always rmb to use .dot()\n",
    "from sympy import *\n",
    "import numpy as np\n",
    "import math as m\n",
    "co = -232.5 / ((m.sqrt(309))*(m.sqrt(273)))"
   ]
  },
  {
   "cell_type": "code",
   "execution_count": null,
   "metadata": {},
   "outputs": [],
   "source": [
    "myMatrix = Matrix([[1,-1], [2,-2]])\n",
    "print(\"Matrix : {} \".format(myMatrix))\n",
    "\n",
    "# Using sympy.rref() method to find rref \n",
    "#reduced row echelon form\n",
    "matrix_rref = myMatrix.rref()\n",
    "\t"
   ]
  },
  {
   "cell_type": "code",
   "execution_count": null,
   "metadata": {},
   "outputs": [],
   "source": [
    "from sympy import *\n",
    "import numpy as np\n",
    "\n",
    "# Enter a matrix\n",
    "myMatrix = Matrix([[2,1,4],[-1,-2,-3],[1,-5,-3]])\n",
    "myMatrix.det()"
   ]
  },
  {
   "cell_type": "code",
   "execution_count": null,
   "metadata": {},
   "outputs": [],
   "source": [
    "myMatrix.inv()\n",
    "myMatrix.norm()"
   ]
  },
  {
   "cell_type": "code",
   "execution_count": null,
   "metadata": {},
   "outputs": [],
   "source": [
    "#For multiplication \n",
    "#Task 2\n",
    "A = np.array([[7,-3],[2,1],[9,-6],[-3,2]])\n",
    "B = np.array([[2],[5]])\n",
    "C = np.array([[5,1,-8,4],[2,7,-3,5]])\n",
    "\n",
    "\n",
    "print(A.dot(C))\n",
    "print(A.dot(B))\n",
    "print(A+C.T)\n",
    "# print(B.dot(A)) not conformable\n",
    "print(A.dot(A.T)+C.T.dot(C))\n",
    "print(A+2*C.T)"
   ]
  },
  {
   "cell_type": "code",
   "execution_count": 37,
   "metadata": {},
   "outputs": [
    {
     "data": {
      "text/plain": [
       "[(2,\n",
       "  1,\n",
       "  [Matrix([\n",
       "   [1/2],\n",
       "   [  1]])]),\n",
       " (3,\n",
       "  1,\n",
       "  [Matrix([\n",
       "   [1],\n",
       "   [1]])])]"
      ]
     },
     "execution_count": 37,
     "metadata": {},
     "output_type": "execute_result"
    }
   ],
   "source": [
    "#  use Covariance as matrix for eigen vals and eigen vectors\n",
    "myMatrix = Matrix([[4,-1],[2,1]])\n",
    "myMatrix.eigenvals()    \n",
    "myMatrix.eigenvects()"
   ]
  },
  {
   "cell_type": "code",
   "execution_count": 38,
   "metadata": {},
   "outputs": [
    {
     "data": {
      "text/plain": [
       "(Matrix([\n",
       " [-0.894427190999916, -0.74535599249993],\n",
       " [ 0.447213595499958, -0.74535599249993]]),\n",
       " Matrix([\n",
       " [0.5,   0],\n",
       " [  0, 2.0]]))"
      ]
     },
     "execution_count": 38,
     "metadata": {},
     "output_type": "execute_result"
    }
   ],
   "source": [
    "lol = Matrix([[1,1],[0.5,1.5]])\n",
    "lol.diagonalize()"
   ]
  }
 ],
 "metadata": {
  "interpreter": {
   "hash": "3a00f272cf4b6b21534f4cce92f165e847380034a1edd2638bef2aea3f81e5c3"
  },
  "kernelspec": {
   "display_name": "Python 3.9.13 64-bit (windows store)",
   "language": "python",
   "name": "python3"
  },
  "language_info": {
   "codemirror_mode": {
    "name": "ipython",
    "version": 3
   },
   "file_extension": ".py",
   "mimetype": "text/x-python",
   "name": "python",
   "nbconvert_exporter": "python",
   "pygments_lexer": "ipython3",
   "version": "3.9.13"
  },
  "orig_nbformat": 4
 },
 "nbformat": 4,
 "nbformat_minor": 2
}
